{
 "cells": [
  {
   "cell_type": "code",
   "execution_count": 417,
   "metadata": {
    "id": "B0e3XzAwzasL"
   },
   "outputs": [],
   "source": [
    "#Basic libraries\n",
    "import pandas as pd\n",
    "import numpy as np \n",
    "import matplotlib.pyplot as plt\n",
    "import seaborn as sns"
   ]
  },
  {
   "cell_type": "code",
   "execution_count": 418,
   "metadata": {
    "id": "fksaI4TCzasn"
   },
   "outputs": [],
   "source": [
    "#Loading dataset\n",
    "data=pd.read_csv(r'salarydata.csv')"
   ]
  },
  {
   "cell_type": "markdown",
   "metadata": {
    "id": "Z5LtFpYHzaso"
   },
   "source": [
    "# Basic Details of dataset"
   ]
  },
  {
   "cell_type": "code",
   "execution_count": 419,
   "metadata": {
    "colab": {
     "base_uri": "https://localhost:8080/",
     "height": 0
    },
    "id": "T7W02px6zasp",
    "outputId": "f31c888d-a95b-4a3a-826f-ff8d56f9d896"
   },
   "outputs": [
    {
     "data": {
      "text/html": [
       "<div>\n",
       "<style scoped>\n",
       "    .dataframe tbody tr th:only-of-type {\n",
       "        vertical-align: middle;\n",
       "    }\n",
       "\n",
       "    .dataframe tbody tr th {\n",
       "        vertical-align: top;\n",
       "    }\n",
       "\n",
       "    .dataframe thead th {\n",
       "        text-align: right;\n",
       "    }\n",
       "</style>\n",
       "<table border=\"1\" class=\"dataframe\">\n",
       "  <thead>\n",
       "    <tr style=\"text-align: right;\">\n",
       "      <th></th>\n",
       "      <th>age</th>\n",
       "      <th>workclass</th>\n",
       "      <th>education</th>\n",
       "      <th>education-num</th>\n",
       "      <th>marital-status</th>\n",
       "      <th>occupation</th>\n",
       "      <th>relationship</th>\n",
       "      <th>race</th>\n",
       "      <th>sex</th>\n",
       "      <th>capital-gain</th>\n",
       "      <th>capital-loss</th>\n",
       "      <th>hours-per-week</th>\n",
       "      <th>native-country</th>\n",
       "      <th>salary</th>\n",
       "    </tr>\n",
       "  </thead>\n",
       "  <tbody>\n",
       "    <tr>\n",
       "      <th>0</th>\n",
       "      <td>39</td>\n",
       "      <td>State-gov</td>\n",
       "      <td>Bachelors</td>\n",
       "      <td>13</td>\n",
       "      <td>Never-married</td>\n",
       "      <td>Adm-clerical</td>\n",
       "      <td>Not-in-family</td>\n",
       "      <td>White</td>\n",
       "      <td>Male</td>\n",
       "      <td>2174</td>\n",
       "      <td>0</td>\n",
       "      <td>40</td>\n",
       "      <td>United-States</td>\n",
       "      <td>&lt;=50K</td>\n",
       "    </tr>\n",
       "    <tr>\n",
       "      <th>1</th>\n",
       "      <td>50</td>\n",
       "      <td>Self-emp-not-inc</td>\n",
       "      <td>Bachelors</td>\n",
       "      <td>13</td>\n",
       "      <td>Married-civ-spouse</td>\n",
       "      <td>Exec-managerial</td>\n",
       "      <td>Husband</td>\n",
       "      <td>White</td>\n",
       "      <td>Male</td>\n",
       "      <td>0</td>\n",
       "      <td>0</td>\n",
       "      <td>13</td>\n",
       "      <td>United-States</td>\n",
       "      <td>&lt;=50K</td>\n",
       "    </tr>\n",
       "    <tr>\n",
       "      <th>2</th>\n",
       "      <td>38</td>\n",
       "      <td>Private</td>\n",
       "      <td>HS-grad</td>\n",
       "      <td>9</td>\n",
       "      <td>Divorced</td>\n",
       "      <td>Handlers-cleaners</td>\n",
       "      <td>Not-in-family</td>\n",
       "      <td>White</td>\n",
       "      <td>Male</td>\n",
       "      <td>0</td>\n",
       "      <td>0</td>\n",
       "      <td>40</td>\n",
       "      <td>United-States</td>\n",
       "      <td>&lt;=50K</td>\n",
       "    </tr>\n",
       "    <tr>\n",
       "      <th>3</th>\n",
       "      <td>53</td>\n",
       "      <td>Private</td>\n",
       "      <td>11th</td>\n",
       "      <td>7</td>\n",
       "      <td>Married-civ-spouse</td>\n",
       "      <td>Handlers-cleaners</td>\n",
       "      <td>Husband</td>\n",
       "      <td>Black</td>\n",
       "      <td>Male</td>\n",
       "      <td>0</td>\n",
       "      <td>0</td>\n",
       "      <td>40</td>\n",
       "      <td>United-States</td>\n",
       "      <td>&lt;=50K</td>\n",
       "    </tr>\n",
       "    <tr>\n",
       "      <th>4</th>\n",
       "      <td>28</td>\n",
       "      <td>Private</td>\n",
       "      <td>Bachelors</td>\n",
       "      <td>13</td>\n",
       "      <td>Married-civ-spouse</td>\n",
       "      <td>Prof-specialty</td>\n",
       "      <td>Wife</td>\n",
       "      <td>Black</td>\n",
       "      <td>Female</td>\n",
       "      <td>0</td>\n",
       "      <td>0</td>\n",
       "      <td>40</td>\n",
       "      <td>Cuba</td>\n",
       "      <td>&lt;=50K</td>\n",
       "    </tr>\n",
       "  </tbody>\n",
       "</table>\n",
       "</div>"
      ],
      "text/plain": [
       "   age         workclass  education  ...  hours-per-week native-country salary\n",
       "0   39         State-gov  Bachelors  ...              40  United-States  <=50K\n",
       "1   50  Self-emp-not-inc  Bachelors  ...              13  United-States  <=50K\n",
       "2   38           Private    HS-grad  ...              40  United-States  <=50K\n",
       "3   53           Private       11th  ...              40  United-States  <=50K\n",
       "4   28           Private  Bachelors  ...              40           Cuba  <=50K\n",
       "\n",
       "[5 rows x 14 columns]"
      ]
     },
     "execution_count": 419,
     "metadata": {
      "tags": []
     },
     "output_type": "execute_result"
    }
   ],
   "source": [
    "data.head()"
   ]
  },
  {
   "cell_type": "code",
   "execution_count": 420,
   "metadata": {
    "colab": {
     "base_uri": "https://localhost:8080/",
     "height": 0
    },
    "id": "ccy9yusazasr",
    "outputId": "dc471eb5-8c82-459c-d3be-b917215e0435"
   },
   "outputs": [
    {
     "data": {
      "text/html": [
       "<div>\n",
       "<style scoped>\n",
       "    .dataframe tbody tr th:only-of-type {\n",
       "        vertical-align: middle;\n",
       "    }\n",
       "\n",
       "    .dataframe tbody tr th {\n",
       "        vertical-align: top;\n",
       "    }\n",
       "\n",
       "    .dataframe thead th {\n",
       "        text-align: right;\n",
       "    }\n",
       "</style>\n",
       "<table border=\"1\" class=\"dataframe\">\n",
       "  <thead>\n",
       "    <tr style=\"text-align: right;\">\n",
       "      <th></th>\n",
       "      <th>age</th>\n",
       "      <th>workclass</th>\n",
       "      <th>education</th>\n",
       "      <th>education-num</th>\n",
       "      <th>marital-status</th>\n",
       "      <th>occupation</th>\n",
       "      <th>relationship</th>\n",
       "      <th>race</th>\n",
       "      <th>sex</th>\n",
       "      <th>capital-gain</th>\n",
       "      <th>capital-loss</th>\n",
       "      <th>hours-per-week</th>\n",
       "      <th>native-country</th>\n",
       "      <th>salary</th>\n",
       "    </tr>\n",
       "  </thead>\n",
       "  <tbody>\n",
       "    <tr>\n",
       "      <th>32556</th>\n",
       "      <td>27</td>\n",
       "      <td>Private</td>\n",
       "      <td>Assoc-acdm</td>\n",
       "      <td>12</td>\n",
       "      <td>Married-civ-spouse</td>\n",
       "      <td>Tech-support</td>\n",
       "      <td>Wife</td>\n",
       "      <td>White</td>\n",
       "      <td>Female</td>\n",
       "      <td>0</td>\n",
       "      <td>0</td>\n",
       "      <td>38</td>\n",
       "      <td>United-States</td>\n",
       "      <td>&lt;=50K</td>\n",
       "    </tr>\n",
       "    <tr>\n",
       "      <th>32557</th>\n",
       "      <td>40</td>\n",
       "      <td>Private</td>\n",
       "      <td>HS-grad</td>\n",
       "      <td>9</td>\n",
       "      <td>Married-civ-spouse</td>\n",
       "      <td>Machine-op-inspct</td>\n",
       "      <td>Husband</td>\n",
       "      <td>White</td>\n",
       "      <td>Male</td>\n",
       "      <td>0</td>\n",
       "      <td>0</td>\n",
       "      <td>40</td>\n",
       "      <td>United-States</td>\n",
       "      <td>&gt;50K</td>\n",
       "    </tr>\n",
       "    <tr>\n",
       "      <th>32558</th>\n",
       "      <td>58</td>\n",
       "      <td>Private</td>\n",
       "      <td>HS-grad</td>\n",
       "      <td>9</td>\n",
       "      <td>Widowed</td>\n",
       "      <td>Adm-clerical</td>\n",
       "      <td>Unmarried</td>\n",
       "      <td>White</td>\n",
       "      <td>Female</td>\n",
       "      <td>0</td>\n",
       "      <td>0</td>\n",
       "      <td>40</td>\n",
       "      <td>United-States</td>\n",
       "      <td>&lt;=50K</td>\n",
       "    </tr>\n",
       "    <tr>\n",
       "      <th>32559</th>\n",
       "      <td>22</td>\n",
       "      <td>Private</td>\n",
       "      <td>HS-grad</td>\n",
       "      <td>9</td>\n",
       "      <td>Never-married</td>\n",
       "      <td>Adm-clerical</td>\n",
       "      <td>Own-child</td>\n",
       "      <td>White</td>\n",
       "      <td>Male</td>\n",
       "      <td>0</td>\n",
       "      <td>0</td>\n",
       "      <td>20</td>\n",
       "      <td>United-States</td>\n",
       "      <td>&lt;=50K</td>\n",
       "    </tr>\n",
       "    <tr>\n",
       "      <th>32560</th>\n",
       "      <td>52</td>\n",
       "      <td>Self-emp-inc</td>\n",
       "      <td>HS-grad</td>\n",
       "      <td>9</td>\n",
       "      <td>Married-civ-spouse</td>\n",
       "      <td>Exec-managerial</td>\n",
       "      <td>Wife</td>\n",
       "      <td>White</td>\n",
       "      <td>Female</td>\n",
       "      <td>15024</td>\n",
       "      <td>0</td>\n",
       "      <td>40</td>\n",
       "      <td>United-States</td>\n",
       "      <td>&gt;50K</td>\n",
       "    </tr>\n",
       "  </tbody>\n",
       "</table>\n",
       "</div>"
      ],
      "text/plain": [
       "       age     workclass   education  ...  hours-per-week native-country salary\n",
       "32556   27       Private  Assoc-acdm  ...              38  United-States  <=50K\n",
       "32557   40       Private     HS-grad  ...              40  United-States   >50K\n",
       "32558   58       Private     HS-grad  ...              40  United-States  <=50K\n",
       "32559   22       Private     HS-grad  ...              20  United-States  <=50K\n",
       "32560   52  Self-emp-inc     HS-grad  ...              40  United-States   >50K\n",
       "\n",
       "[5 rows x 14 columns]"
      ]
     },
     "execution_count": 420,
     "metadata": {
      "tags": []
     },
     "output_type": "execute_result"
    }
   ],
   "source": [
    "data.tail()"
   ]
  },
  {
   "cell_type": "code",
   "execution_count": 421,
   "metadata": {
    "colab": {
     "base_uri": "https://localhost:8080/"
    },
    "id": "JS3ycbf3zass",
    "outputId": "dd2745b0-ef39-44b4-e917-5776d080aecd"
   },
   "outputs": [
    {
     "data": {
      "text/plain": [
       "(32561, 14)"
      ]
     },
     "execution_count": 421,
     "metadata": {
      "tags": []
     },
     "output_type": "execute_result"
    }
   ],
   "source": [
    "data.shape"
   ]
  },
  {
   "cell_type": "code",
   "execution_count": 422,
   "metadata": {
    "colab": {
     "base_uri": "https://localhost:8080/",
     "height": 0
    },
    "id": "tnYplsdLzass",
    "outputId": "fe01afd5-9d49-450d-cfc5-e971e1b021d5"
   },
   "outputs": [
    {
     "data": {
      "text/html": [
       "<div>\n",
       "<style scoped>\n",
       "    .dataframe tbody tr th:only-of-type {\n",
       "        vertical-align: middle;\n",
       "    }\n",
       "\n",
       "    .dataframe tbody tr th {\n",
       "        vertical-align: top;\n",
       "    }\n",
       "\n",
       "    .dataframe thead th {\n",
       "        text-align: right;\n",
       "    }\n",
       "</style>\n",
       "<table border=\"1\" class=\"dataframe\">\n",
       "  <thead>\n",
       "    <tr style=\"text-align: right;\">\n",
       "      <th></th>\n",
       "      <th>age</th>\n",
       "      <th>education-num</th>\n",
       "      <th>capital-gain</th>\n",
       "      <th>capital-loss</th>\n",
       "      <th>hours-per-week</th>\n",
       "    </tr>\n",
       "  </thead>\n",
       "  <tbody>\n",
       "    <tr>\n",
       "      <th>count</th>\n",
       "      <td>32561.000000</td>\n",
       "      <td>32561.000000</td>\n",
       "      <td>32561.000000</td>\n",
       "      <td>32561.000000</td>\n",
       "      <td>32561.000000</td>\n",
       "    </tr>\n",
       "    <tr>\n",
       "      <th>mean</th>\n",
       "      <td>38.581647</td>\n",
       "      <td>10.080679</td>\n",
       "      <td>1077.648844</td>\n",
       "      <td>87.303830</td>\n",
       "      <td>40.437456</td>\n",
       "    </tr>\n",
       "    <tr>\n",
       "      <th>std</th>\n",
       "      <td>13.640433</td>\n",
       "      <td>2.572720</td>\n",
       "      <td>7385.292085</td>\n",
       "      <td>402.960219</td>\n",
       "      <td>12.347429</td>\n",
       "    </tr>\n",
       "    <tr>\n",
       "      <th>min</th>\n",
       "      <td>17.000000</td>\n",
       "      <td>1.000000</td>\n",
       "      <td>0.000000</td>\n",
       "      <td>0.000000</td>\n",
       "      <td>1.000000</td>\n",
       "    </tr>\n",
       "    <tr>\n",
       "      <th>25%</th>\n",
       "      <td>28.000000</td>\n",
       "      <td>9.000000</td>\n",
       "      <td>0.000000</td>\n",
       "      <td>0.000000</td>\n",
       "      <td>40.000000</td>\n",
       "    </tr>\n",
       "    <tr>\n",
       "      <th>50%</th>\n",
       "      <td>37.000000</td>\n",
       "      <td>10.000000</td>\n",
       "      <td>0.000000</td>\n",
       "      <td>0.000000</td>\n",
       "      <td>40.000000</td>\n",
       "    </tr>\n",
       "    <tr>\n",
       "      <th>75%</th>\n",
       "      <td>48.000000</td>\n",
       "      <td>12.000000</td>\n",
       "      <td>0.000000</td>\n",
       "      <td>0.000000</td>\n",
       "      <td>45.000000</td>\n",
       "    </tr>\n",
       "    <tr>\n",
       "      <th>max</th>\n",
       "      <td>90.000000</td>\n",
       "      <td>16.000000</td>\n",
       "      <td>99999.000000</td>\n",
       "      <td>4356.000000</td>\n",
       "      <td>99.000000</td>\n",
       "    </tr>\n",
       "  </tbody>\n",
       "</table>\n",
       "</div>"
      ],
      "text/plain": [
       "                age  education-num  capital-gain  capital-loss  hours-per-week\n",
       "count  32561.000000   32561.000000  32561.000000  32561.000000    32561.000000\n",
       "mean      38.581647      10.080679   1077.648844     87.303830       40.437456\n",
       "std       13.640433       2.572720   7385.292085    402.960219       12.347429\n",
       "min       17.000000       1.000000      0.000000      0.000000        1.000000\n",
       "25%       28.000000       9.000000      0.000000      0.000000       40.000000\n",
       "50%       37.000000      10.000000      0.000000      0.000000       40.000000\n",
       "75%       48.000000      12.000000      0.000000      0.000000       45.000000\n",
       "max       90.000000      16.000000  99999.000000   4356.000000       99.000000"
      ]
     },
     "execution_count": 422,
     "metadata": {
      "tags": []
     },
     "output_type": "execute_result"
    }
   ],
   "source": [
    "data.describe()"
   ]
  },
  {
   "cell_type": "code",
   "execution_count": 423,
   "metadata": {
    "colab": {
     "base_uri": "https://localhost:8080/"
    },
    "id": "UhTqq_Ogzast",
    "outputId": "6047762f-c10a-4229-f462-e5dfd921e923"
   },
   "outputs": [
    {
     "name": "stdout",
     "output_type": "stream",
     "text": [
      "<class 'pandas.core.frame.DataFrame'>\n",
      "RangeIndex: 32561 entries, 0 to 32560\n",
      "Data columns (total 14 columns):\n",
      " #   Column          Non-Null Count  Dtype \n",
      "---  ------          --------------  ----- \n",
      " 0   age             32561 non-null  int64 \n",
      " 1   workclass       32561 non-null  object\n",
      " 2   education       32561 non-null  object\n",
      " 3   education-num   32561 non-null  int64 \n",
      " 4   marital-status  32561 non-null  object\n",
      " 5   occupation      32561 non-null  object\n",
      " 6   relationship    32561 non-null  object\n",
      " 7   race            32561 non-null  object\n",
      " 8   sex             32561 non-null  object\n",
      " 9   capital-gain    32561 non-null  int64 \n",
      " 10  capital-loss    32561 non-null  int64 \n",
      " 11  hours-per-week  32561 non-null  int64 \n",
      " 12  native-country  32561 non-null  object\n",
      " 13  salary          32561 non-null  object\n",
      "dtypes: int64(5), object(9)\n",
      "memory usage: 3.5+ MB\n"
     ]
    }
   ],
   "source": [
    "data.info()"
   ]
  },
  {
   "cell_type": "code",
   "execution_count": 424,
   "metadata": {
    "colab": {
     "base_uri": "https://localhost:8080/"
    },
    "id": "LL-IwUpazasu",
    "outputId": "53779117-5487-4608-d1ee-0c88048f0cab"
   },
   "outputs": [
    {
     "data": {
      "text/plain": [
       "age                -0.166127\n",
       "education-num       0.623444\n",
       "capital-gain      154.799438\n",
       "capital-loss       20.376802\n",
       "hours-per-week      2.916687\n",
       "dtype: float64"
      ]
     },
     "execution_count": 424,
     "metadata": {
      "tags": []
     },
     "output_type": "execute_result"
    }
   ],
   "source": [
    "data.kurt()"
   ]
  },
  {
   "cell_type": "code",
   "execution_count": 425,
   "metadata": {
    "colab": {
     "base_uri": "https://localhost:8080/"
    },
    "id": "_4N3LFdLzasv",
    "outputId": "a935a46c-c836-41a0-fb0a-7dc320f7503a"
   },
   "outputs": [
    {
     "data": {
      "text/plain": [
       "age                0.558743\n",
       "education-num     -0.311676\n",
       "capital-gain      11.953848\n",
       "capital-loss       4.594629\n",
       "hours-per-week     0.227643\n",
       "dtype: float64"
      ]
     },
     "execution_count": 425,
     "metadata": {
      "tags": []
     },
     "output_type": "execute_result"
    }
   ],
   "source": [
    "data.skew()"
   ]
  },
  {
   "cell_type": "code",
   "execution_count": 426,
   "metadata": {
    "colab": {
     "base_uri": "https://localhost:8080/"
    },
    "id": "5uzhkLMwzasw",
    "outputId": "7f474afb-bddb-499b-b0b5-797af31bbea2"
   },
   "outputs": [
    {
     "data": {
      "text/plain": [
       "age               0\n",
       "workclass         0\n",
       "education         0\n",
       "education-num     0\n",
       "marital-status    0\n",
       "occupation        0\n",
       "relationship      0\n",
       "race              0\n",
       "sex               0\n",
       "capital-gain      0\n",
       "capital-loss      0\n",
       "hours-per-week    0\n",
       "native-country    0\n",
       "salary            0\n",
       "dtype: int64"
      ]
     },
     "execution_count": 426,
     "metadata": {
      "tags": []
     },
     "output_type": "execute_result"
    }
   ],
   "source": [
    "#check for missing values\n",
    "data.isna().sum()"
   ]
  },
  {
   "cell_type": "code",
   "execution_count": 427,
   "metadata": {
    "colab": {
     "base_uri": "https://localhost:8080/"
    },
    "id": "J7KQ3xtVzasx",
    "outputId": "e065fe66-a1e1-43d0-d575-2ee9481337f9"
   },
   "outputs": [
    {
     "data": {
      "text/plain": [
       "Index(['age', 'workclass', 'education', 'education-num', 'marital-status',\n",
       "       'occupation', 'relationship', 'race', 'sex', 'capital-gain',\n",
       "       'capital-loss', 'hours-per-week', 'native-country', 'salary'],\n",
       "      dtype='object')"
      ]
     },
     "execution_count": 427,
     "metadata": {
      "tags": []
     },
     "output_type": "execute_result"
    }
   ],
   "source": [
    "data.columns"
   ]
  },
  {
   "cell_type": "code",
   "execution_count": 428,
   "metadata": {
    "colab": {
     "base_uri": "https://localhost:8080/"
    },
    "id": "JlFplFFrzasy",
    "outputId": "5cb0813c-ea18-410d-9854-56b65adc81c5"
   },
   "outputs": [
    {
     "name": "stdout",
     "output_type": "stream",
     "text": [
      "age\n",
      "36    898\n",
      "31    888\n",
      "34    886\n",
      "23    877\n",
      "35    876\n",
      "     ... \n",
      "83      6\n",
      "85      3\n",
      "88      3\n",
      "87      1\n",
      "86      1\n",
      "Name: age, Length: 73, dtype: int64\n",
      "\n",
      "workclass\n",
      "Private             22696\n",
      "Self-emp-not-inc     2541\n",
      "Local-gov            2093\n",
      "?                    1836\n",
      "State-gov            1298\n",
      "Self-emp-inc         1116\n",
      "Federal-gov           960\n",
      "Without-pay            14\n",
      "Never-worked            7\n",
      "Name: workclass, dtype: int64\n",
      "\n",
      "education\n",
      "HS-grad         10501\n",
      "Some-college     7291\n",
      "Bachelors        5355\n",
      "Masters          1723\n",
      "Assoc-voc        1382\n",
      "11th             1175\n",
      "Assoc-acdm       1067\n",
      "10th              933\n",
      "7th-8th           646\n",
      "Prof-school       576\n",
      "9th               514\n",
      "12th              433\n",
      "Doctorate         413\n",
      "5th-6th           333\n",
      "1st-4th           168\n",
      "Preschool          51\n",
      "Name: education, dtype: int64\n",
      "\n",
      "education-num\n",
      "9     10501\n",
      "10     7291\n",
      "13     5355\n",
      "14     1723\n",
      "11     1382\n",
      "7      1175\n",
      "12     1067\n",
      "6       933\n",
      "4       646\n",
      "15      576\n",
      "5       514\n",
      "8       433\n",
      "16      413\n",
      "3       333\n",
      "2       168\n",
      "1        51\n",
      "Name: education-num, dtype: int64\n",
      "\n",
      "marital-status\n",
      "Married-civ-spouse       14976\n",
      "Never-married            10683\n",
      "Divorced                  4443\n",
      "Separated                 1025\n",
      "Widowed                    993\n",
      "Married-spouse-absent      418\n",
      "Married-AF-spouse           23\n",
      "Name: marital-status, dtype: int64\n",
      "\n",
      "occupation\n",
      "Prof-specialty       4140\n",
      "Craft-repair         4099\n",
      "Exec-managerial      4066\n",
      "Adm-clerical         3770\n",
      "Sales                3650\n",
      "Other-service        3295\n",
      "Machine-op-inspct    2002\n",
      "?                    1843\n",
      "Transport-moving     1597\n",
      "Handlers-cleaners    1370\n",
      "Farming-fishing       994\n",
      "Tech-support          928\n",
      "Protective-serv       649\n",
      "Priv-house-serv       149\n",
      "Armed-Forces            9\n",
      "Name: occupation, dtype: int64\n",
      "\n",
      "relationship\n",
      "Husband           13193\n",
      "Not-in-family      8305\n",
      "Own-child          5068\n",
      "Unmarried          3446\n",
      "Wife               1568\n",
      "Other-relative      981\n",
      "Name: relationship, dtype: int64\n",
      "\n",
      "race\n",
      "White                 27816\n",
      "Black                  3124\n",
      "Asian-Pac-Islander     1039\n",
      "Amer-Indian-Eskimo      311\n",
      "Other                   271\n",
      "Name: race, dtype: int64\n",
      "\n",
      "sex\n",
      "Male      21790\n",
      "Female    10771\n",
      "Name: sex, dtype: int64\n",
      "\n",
      "capital-gain\n",
      "0        29849\n",
      "15024      347\n",
      "7688       284\n",
      "7298       246\n",
      "99999      159\n",
      "         ...  \n",
      "4931         1\n",
      "1455         1\n",
      "6097         1\n",
      "22040        1\n",
      "1111         1\n",
      "Name: capital-gain, Length: 119, dtype: int64\n",
      "\n",
      "capital-loss\n",
      "0       31042\n",
      "1902      202\n",
      "1977      168\n",
      "1887      159\n",
      "1848       51\n",
      "        ...  \n",
      "1411        1\n",
      "1539        1\n",
      "2472        1\n",
      "1944        1\n",
      "2201        1\n",
      "Name: capital-loss, Length: 92, dtype: int64\n",
      "\n",
      "hours-per-week\n",
      "40    15217\n",
      "50     2819\n",
      "45     1824\n",
      "60     1475\n",
      "35     1297\n",
      "      ...  \n",
      "92        1\n",
      "94        1\n",
      "87        1\n",
      "74        1\n",
      "82        1\n",
      "Name: hours-per-week, Length: 94, dtype: int64\n",
      "\n",
      "native-country\n",
      "United-States                 29170\n",
      "Mexico                          643\n",
      "?                               583\n",
      "Philippines                     198\n",
      "Germany                         137\n",
      "Canada                          121\n",
      "Puerto-Rico                     114\n",
      "El-Salvador                     106\n",
      "India                           100\n",
      "Cuba                             95\n",
      "England                          90\n",
      "Jamaica                          81\n",
      "South                            80\n",
      "China                            75\n",
      "Italy                            73\n",
      "Dominican-Republic               70\n",
      "Vietnam                          67\n",
      "Guatemala                        64\n",
      "Japan                            62\n",
      "Poland                           60\n",
      "Columbia                         59\n",
      "Taiwan                           51\n",
      "Haiti                            44\n",
      "Iran                             43\n",
      "Portugal                         37\n",
      "Nicaragua                        34\n",
      "Peru                             31\n",
      "Greece                           29\n",
      "France                           29\n",
      "Ecuador                          28\n",
      "Ireland                          24\n",
      "Hong                             20\n",
      "Cambodia                         19\n",
      "Trinadad&Tobago                  19\n",
      "Laos                             18\n",
      "Thailand                         18\n",
      "Yugoslavia                       16\n",
      "Outlying-US(Guam-USVI-etc)       14\n",
      "Hungary                          13\n",
      "Honduras                         13\n",
      "Scotland                         12\n",
      "Holand-Netherlands                1\n",
      "Name: native-country, dtype: int64\n",
      "\n",
      "salary\n",
      "<=50K    24720\n",
      ">50K      7841\n",
      "Name: salary, dtype: int64\n",
      "\n"
     ]
    }
   ],
   "source": [
    "for i in data.columns:\n",
    "    print(i)\n",
    "    print(data[i].value_counts())\n",
    "    print( )"
   ]
  },
  {
   "cell_type": "code",
   "execution_count": 429,
   "metadata": {
    "colab": {
     "base_uri": "https://localhost:8080/"
    },
    "id": "rtdwXDlvzasy",
    "outputId": "a458c5b9-28f3-4483-a3e7-9d92b1b856d2"
   },
   "outputs": [
    {
     "data": {
      "text/plain": [
       "Private             22696\n",
       "Self-emp-not-inc     2541\n",
       "Local-gov            2093\n",
       "?                    1836\n",
       "State-gov            1298\n",
       "Self-emp-inc         1116\n",
       "Federal-gov           960\n",
       "Without-pay            14\n",
       "Never-worked            7\n",
       "Name: workclass, dtype: int64"
      ]
     },
     "execution_count": 429,
     "metadata": {
      "tags": []
     },
     "output_type": "execute_result"
    }
   ],
   "source": [
    "data['workclass'].value_counts()"
   ]
  },
  {
   "cell_type": "code",
   "execution_count": 430,
   "metadata": {
    "id": "Hqe7Uuyfzasz"
   },
   "outputs": [],
   "source": [
    "#Replacing the '?' with mode value\n",
    "data['workclass']=data['workclass'].replace('?','Private')"
   ]
  },
  {
   "cell_type": "code",
   "execution_count": 431,
   "metadata": {
    "colab": {
     "base_uri": "https://localhost:8080/"
    },
    "id": "aIAyxdnizasz",
    "outputId": "ec350b01-9298-49fb-f8c8-a6794e7dd066"
   },
   "outputs": [
    {
     "data": {
      "text/plain": [
       "Private             24532\n",
       "Self-emp-not-inc     2541\n",
       "Local-gov            2093\n",
       "State-gov            1298\n",
       "Self-emp-inc         1116\n",
       "Federal-gov           960\n",
       "Without-pay            14\n",
       "Never-worked            7\n",
       "Name: workclass, dtype: int64"
      ]
     },
     "execution_count": 431,
     "metadata": {
      "tags": []
     },
     "output_type": "execute_result"
    }
   ],
   "source": [
    "data['workclass'].value_counts()"
   ]
  },
  {
   "cell_type": "code",
   "execution_count": 432,
   "metadata": {
    "colab": {
     "base_uri": "https://localhost:8080/"
    },
    "id": "AsO7HUUvzas0",
    "outputId": "2ac2517a-351f-44e5-9eb5-13edc4fc0b74"
   },
   "outputs": [
    {
     "data": {
      "text/plain": [
       "Prof-specialty       4140\n",
       "Craft-repair         4099\n",
       "Exec-managerial      4066\n",
       "Adm-clerical         3770\n",
       "Sales                3650\n",
       "Other-service        3295\n",
       "Machine-op-inspct    2002\n",
       "?                    1843\n",
       "Transport-moving     1597\n",
       "Handlers-cleaners    1370\n",
       "Farming-fishing       994\n",
       "Tech-support          928\n",
       "Protective-serv       649\n",
       "Priv-house-serv       149\n",
       "Armed-Forces            9\n",
       "Name: occupation, dtype: int64"
      ]
     },
     "execution_count": 432,
     "metadata": {
      "tags": []
     },
     "output_type": "execute_result"
    }
   ],
   "source": [
    "data['occupation'].value_counts()"
   ]
  },
  {
   "cell_type": "code",
   "execution_count": 433,
   "metadata": {
    "id": "vlx7fWCTzas0"
   },
   "outputs": [],
   "source": [
    "data['occupation']=data['occupation'].replace('?','Prof-specialty')"
   ]
  },
  {
   "cell_type": "code",
   "execution_count": 434,
   "metadata": {
    "colab": {
     "base_uri": "https://localhost:8080/"
    },
    "id": "nB5kEihBzas1",
    "outputId": "3cc98f55-a7a6-408a-85e6-0d09f3f5f685"
   },
   "outputs": [
    {
     "data": {
      "text/plain": [
       "United-States                 29170\n",
       "Mexico                          643\n",
       "?                               583\n",
       "Philippines                     198\n",
       "Germany                         137\n",
       "Canada                          121\n",
       "Puerto-Rico                     114\n",
       "El-Salvador                     106\n",
       "India                           100\n",
       "Cuba                             95\n",
       "England                          90\n",
       "Jamaica                          81\n",
       "South                            80\n",
       "China                            75\n",
       "Italy                            73\n",
       "Dominican-Republic               70\n",
       "Vietnam                          67\n",
       "Guatemala                        64\n",
       "Japan                            62\n",
       "Poland                           60\n",
       "Columbia                         59\n",
       "Taiwan                           51\n",
       "Haiti                            44\n",
       "Iran                             43\n",
       "Portugal                         37\n",
       "Nicaragua                        34\n",
       "Peru                             31\n",
       "Greece                           29\n",
       "France                           29\n",
       "Ecuador                          28\n",
       "Ireland                          24\n",
       "Hong                             20\n",
       "Cambodia                         19\n",
       "Trinadad&Tobago                  19\n",
       "Laos                             18\n",
       "Thailand                         18\n",
       "Yugoslavia                       16\n",
       "Outlying-US(Guam-USVI-etc)       14\n",
       "Hungary                          13\n",
       "Honduras                         13\n",
       "Scotland                         12\n",
       "Holand-Netherlands                1\n",
       "Name: native-country, dtype: int64"
      ]
     },
     "execution_count": 434,
     "metadata": {
      "tags": []
     },
     "output_type": "execute_result"
    }
   ],
   "source": [
    "data['native-country'].value_counts()"
   ]
  },
  {
   "cell_type": "code",
   "execution_count": 435,
   "metadata": {
    "id": "t8JHEps5zas1"
   },
   "outputs": [],
   "source": [
    "data['native-country']=data['native-country'].replace('?','United-States')"
   ]
  },
  {
   "cell_type": "markdown",
   "metadata": {
    "id": "oz3DIDPdzas2"
   },
   "source": [
    "# Checking outliers"
   ]
  },
  {
   "cell_type": "code",
   "execution_count": 436,
   "metadata": {
    "colab": {
     "base_uri": "https://localhost:8080/"
    },
    "id": "ICFJdAQvzas2",
    "outputId": "52b5d575-a22e-4844-e9ab-e7d2a9a98ea3"
   },
   "outputs": [
    {
     "data": {
      "text/plain": [
       "Index(['age', 'workclass', 'education', 'education-num', 'marital-status',\n",
       "       'occupation', 'relationship', 'race', 'sex', 'capital-gain',\n",
       "       'capital-loss', 'hours-per-week', 'native-country', 'salary'],\n",
       "      dtype='object')"
      ]
     },
     "execution_count": 436,
     "metadata": {
      "tags": []
     },
     "output_type": "execute_result"
    }
   ],
   "source": [
    "data.columns"
   ]
  },
  {
   "cell_type": "code",
   "execution_count": 437,
   "metadata": {
    "colab": {
     "base_uri": "https://localhost:8080/",
     "height": 0
    },
    "id": "j7xq8zYszas3",
    "outputId": "8afa15d0-489d-4cc3-b4b3-cb62aaed3b18"
   },
   "outputs": [
    {
     "data": {
      "text/plain": [
       "<matplotlib.axes._subplots.AxesSubplot at 0x7f08e0866d10>"
      ]
     },
     "execution_count": 437,
     "metadata": {
      "tags": []
     },
     "output_type": "execute_result"
    },
    {
     "data": {
      "image/png": "[encoded data removed]",
      "text/plain": [
       "<Figure size 432x288 with 1 Axes>"
      ]
     },
     "metadata": {
      "tags": []
     },
     "output_type": "display_data"
    }
   ],
   "source": [
    "data.boxplot(column=['age','education-num','capital-gain','capital-loss', 'hours-per-week'])"
   ]
  },
  {
   "cell_type": "code",
   "execution_count": 438,
   "metadata": {
    "colab": {
     "base_uri": "https://localhost:8080/",
     "height": 0
    },
    "id": "cC2WLy1Izas3",
    "outputId": "7e3f49cc-de29-4f16-81d6-062a3a381c10",
    "scrolled": true
   },
   "outputs": [
    {
     "data": {
      "image/png": "[encoded data removed]",
      "text/plain": [
       "<Figure size 432x288 with 1 Axes>"
      ]
     },
     "metadata": {
      "tags": []
     },
     "output_type": "display_data"
    },
    {
     "data": {
      "image/png": "[encoded data removed]",
      "text/plain": [
       "<Figure size 432x288 with 1 Axes>"
      ]
     },
     "metadata": {
      "tags": []
     },
     "output_type": "display_data"
    },
    {
     "data": {
      "image/png": "[encoded data removed]",
      "text/plain": [
       "<Figure size 432x288 with 1 Axes>"
      ]
     },
     "metadata": {
      "tags": []
     },
     "output_type": "display_data"
    },
    {
     "data": {
      "image/png": "[encoded data removed]",
      "text/plain": [
       "<Figure size 432x288 with 1 Axes>"
      ]
     },
     "metadata": {
      "tags": []
     },
     "output_type": "display_data"
    },
    {
     "data": {
      "image/png": "[encoded data removed]",
      "text/plain": [
       "<Figure size 432x288 with 1 Axes>"
      ]
     },
     "metadata": {
      "tags": []
     },
     "output_type": "display_data"
    }
   ],
   "source": [
    "#Outlier checking using box plot\n",
    "for i in ['age','education-num','capital-gain',\n",
    "       'capital-loss', 'hours-per-week']:\n",
    "    plt.figure()\n",
    "    data.boxplot([i])"
   ]
  },
  {
   "cell_type": "markdown",
   "metadata": {
    "id": "_P32ruAIzas4"
   },
   "source": [
    "# Outlier handling"
   ]
  },
  {
   "cell_type": "code",
   "execution_count": 439,
   "metadata": {
    "colab": {
     "base_uri": "https://localhost:8080/"
    },
    "id": "kvYa5iR0zas4",
    "outputId": "97a5c720-9649-4d0e-e1e3-a09851d91cbe"
   },
   "outputs": [
    {
     "name": "stdout",
     "output_type": "stream",
     "text": [
      "28.0\n",
      "37.0\n",
      "48.0\n",
      "-2.0\n",
      "78.0\n"
     ]
    }
   ],
   "source": [
    "#Outlier handling - Age\n",
    "Q1=np.percentile(data['age'],25,interpolation='midpoint')\n",
    "Q2=np.percentile(data['age'],50,interpolation='midpoint')\n",
    "Q3=np.percentile(data['age'],75,interpolation='midpoint')\n",
    "print(Q1)\n",
    "print(Q2)\n",
    "print(Q3)\n",
    "IQR=Q3-Q1\n",
    "low_lim=Q1-1.5*IQR\n",
    "up_lim=Q3+1.5*IQR\n",
    "print(low_lim)\n",
    "print(up_lim)"
   ]
  },
  {
   "cell_type": "code",
   "execution_count": 440,
   "metadata": {
    "colab": {
     "base_uri": "https://localhost:8080/"
    },
    "id": "w1u2G9kazas5",
    "outputId": "6f8524ed-7ec2-4138-f67d-6edc75db111a"
   },
   "outputs": [
    {
     "data": {
      "text/plain": [
       "[79,\n",
       " 90,\n",
       " 80,\n",
       " 81,\n",
       " 90,\n",
       " 88,\n",
       " 90,\n",
       " 90,\n",
       " 80,\n",
       " 90,\n",
       " 81,\n",
       " 82,\n",
       " 79,\n",
       " 81,\n",
       " 80,\n",
       " 83,\n",
       " 90,\n",
       " 90,\n",
       " 79,\n",
       " 81,\n",
       " 90,\n",
       " 90,\n",
       " 80,\n",
       " 90,\n",
       " 90,\n",
       " 79,\n",
       " 79,\n",
       " 84,\n",
       " 90,\n",
       " 80,\n",
       " 90,\n",
       " 81,\n",
       " 83,\n",
       " 84,\n",
       " 81,\n",
       " 79,\n",
       " 85,\n",
       " 82,\n",
       " 79,\n",
       " 80,\n",
       " 90,\n",
       " 90,\n",
       " 90,\n",
       " 84,\n",
       " 80,\n",
       " 90,\n",
       " 90,\n",
       " 79,\n",
       " 84,\n",
       " 90,\n",
       " 79,\n",
       " 90,\n",
       " 90,\n",
       " 90,\n",
       " 82,\n",
       " 81,\n",
       " 90,\n",
       " 84,\n",
       " 79,\n",
       " 81,\n",
       " 82,\n",
       " 81,\n",
       " 80,\n",
       " 90,\n",
       " 80,\n",
       " 84,\n",
       " 82,\n",
       " 79,\n",
       " 90,\n",
       " 84,\n",
       " 90,\n",
       " 83,\n",
       " 79,\n",
       " 81,\n",
       " 80,\n",
       " 79,\n",
       " 80,\n",
       " 79,\n",
       " 80,\n",
       " 90,\n",
       " 90,\n",
       " 80,\n",
       " 90,\n",
       " 90,\n",
       " 81,\n",
       " 83,\n",
       " 82,\n",
       " 90,\n",
       " 90,\n",
       " 81,\n",
       " 80,\n",
       " 80,\n",
       " 90,\n",
       " 79,\n",
       " 80,\n",
       " 82,\n",
       " 85,\n",
       " 80,\n",
       " 79,\n",
       " 90,\n",
       " 81,\n",
       " 79,\n",
       " 80,\n",
       " 79,\n",
       " 81,\n",
       " 82,\n",
       " 88,\n",
       " 90,\n",
       " 82,\n",
       " 88,\n",
       " 84,\n",
       " 83,\n",
       " 79,\n",
       " 86,\n",
       " 90,\n",
       " 90,\n",
       " 82,\n",
       " 83,\n",
       " 81,\n",
       " 79,\n",
       " 90,\n",
       " 80,\n",
       " 81,\n",
       " 79,\n",
       " 84,\n",
       " 84,\n",
       " 79,\n",
       " 90,\n",
       " 80,\n",
       " 81,\n",
       " 81,\n",
       " 81,\n",
       " 90,\n",
       " 87,\n",
       " 90,\n",
       " 80,\n",
       " 80,\n",
       " 82,\n",
       " 90,\n",
       " 90,\n",
       " 85,\n",
       " 82,\n",
       " 81]"
      ]
     },
     "execution_count": 440,
     "metadata": {
      "tags": []
     },
     "output_type": "execute_result"
    }
   ],
   "source": [
    "outlier=[]\n",
    "for x in data['age']:\n",
    "    if((x>up_lim)) or ((x<low_lim)):\n",
    "        outlier.append(x)\n",
    "outlier        "
   ]
  },
  {
   "cell_type": "code",
   "execution_count": 441,
   "metadata": {
    "colab": {
     "base_uri": "https://localhost:8080/"
    },
    "id": "XZJPFx6pzas5",
    "outputId": "ec0e4b38-986e-43fc-83ea-464cce1e2534"
   },
   "outputs": [
    {
     "data": {
      "text/plain": [
       "Int64Index([   74,   222,   430,   918,  1040,  1168,  1935,  2303,  2754,\n",
       "             2891,\n",
       "            ...\n",
       "            31432, 31696, 31814, 31836, 31855, 32277, 32367, 32459, 32494,\n",
       "            32525],\n",
       "           dtype='int64', length=143)"
      ]
     },
     "execution_count": 441,
     "metadata": {
      "tags": []
     },
     "output_type": "execute_result"
    }
   ],
   "source": [
    "ind1=(data['age']>up_lim)|(data['age']<low_lim)\n",
    "data.loc[ind1].index"
   ]
  },
  {
   "cell_type": "code",
   "execution_count": 442,
   "metadata": {
    "colab": {
     "base_uri": "https://localhost:8080/",
     "height": 0
    },
    "id": "ocnDe6CPzas6",
    "outputId": "68c3e2e2-3266-421c-9a13-946c9722cf5a"
   },
   "outputs": [
    {
     "data": {
      "text/plain": [
       "Text(0.5, 1.0, 'age')"
      ]
     },
     "execution_count": 442,
     "metadata": {
      "tags": []
     },
     "output_type": "execute_result"
    },
    {
     "data": {
      "image/png": "[encoded data removed]",
      "text/plain": [
       "<Figure size 432x288 with 1 Axes>"
      ]
     },
     "metadata": {
      "tags": []
     },
     "output_type": "display_data"
    }
   ],
   "source": [
    "data.drop(data.loc[ind1].index,inplace=True)\n",
    "plt.boxplot(data['age'])\n",
    "plt.title('age')"
   ]
  },
  {
   "cell_type": "code",
   "execution_count": 443,
   "metadata": {
    "colab": {
     "base_uri": "https://localhost:8080/"
    },
    "id": "ubLLmdgY6vUJ",
    "outputId": "d7c488d6-9bfd-418e-85b0-32ace439dac3"
   },
   "outputs": [
    {
     "name": "stdout",
     "output_type": "stream",
     "text": [
      "9.0\n",
      "10.0\n",
      "12.0\n",
      "4.5\n",
      "16.5\n"
     ]
    }
   ],
   "source": [
    "#Outlier handling - education-num\n",
    "Q1=np.percentile(data['education-num'],25,interpolation='midpoint')\n",
    "Q2=np.percentile(data['education-num'],50,interpolation='midpoint')\n",
    "Q3=np.percentile(data['education-num'],75,interpolation='midpoint')\n",
    "print(Q1)\n",
    "print(Q2)\n",
    "print(Q3)\n",
    "IQR=Q3-Q1\n",
    "low_lim=Q1-1.5*IQR\n",
    "up_lim=Q3+1.5*IQR\n",
    "print(low_lim)\n",
    "print(up_lim)"
   ]
  },
  {
   "cell_type": "code",
   "execution_count": 444,
   "metadata": {
    "colab": {
     "base_uri": "https://localhost:8080/"
    },
    "id": "wgVlPbKa7C1P",
    "outputId": "0c6e1aa5-cb6a-46d2-eadc-3c091c00cd03"
   },
   "outputs": [
    {
     "data": {
      "text/plain": [
       "[4,\n",
       " 3,\n",
       " 4,\n",
       " 4,\n",
       " 2,\n",
       " 4,\n",
       " 3,\n",
       " 4,\n",
       " 2,\n",
       " 1,\n",
       " 4,\n",
       " 4,\n",
       " 3,\n",
       " 3,\n",
       " 3,\n",
       " 4,\n",
       " 2,\n",
       " 2,\n",
       " 2,\n",
       " 3,\n",
       " 3,\n",
       " 2,\n",
       " 4,\n",
       " 4,\n",
       " 4,\n",
       " 3,\n",
       " 4,\n",
       " 4,\n",
       " 3,\n",
       " 3,\n",
       " 4,\n",
       " 3,\n",
       " 2,\n",
       " 1,\n",
       " 4,\n",
       " 4,\n",
       " 4,\n",
       " 4,\n",
       " 2,\n",
       " 2,\n",
       " 3,\n",
       " 3,\n",
       " 4,\n",
       " 3,\n",
       " 4,\n",
       " 3,\n",
       " 4,\n",
       " 4,\n",
       " 3,\n",
       " 2,\n",
       " 4,\n",
       " 4,\n",
       " 4,\n",
       " 4,\n",
       " 3,\n",
       " 4,\n",
       " 4,\n",
       " 4,\n",
       " 4,\n",
       " 4,\n",
       " 4,\n",
       " 2,\n",
       " 4,\n",
       " 4,\n",
       " 4,\n",
       " 4,\n",
       " 3,\n",
       " 3,\n",
       " 4,\n",
       " 3,\n",
       " 4,\n",
       " 4,\n",
       " 4,\n",
       " 4,\n",
       " 4,\n",
       " 4,\n",
       " 4,\n",
       " 4,\n",
       " 3,\n",
       " 4,\n",
       " 3,\n",
       " 4,\n",
       " 4,\n",
       " 2,\n",
       " 2,\n",
       " 3,\n",
       " 3,\n",
       " 4,\n",
       " 3,\n",
       " 2,\n",
       " 4,\n",
       " 4,\n",
       " 3,\n",
       " 3,\n",
       " 2,\n",
       " 2,\n",
       " 4,\n",
       " 3,\n",
       " 4,\n",
       " 1,\n",
       " 4,\n",
       " 1,\n",
       " 4,\n",
       " 4,\n",
       " 4,\n",
       " 3,\n",
       " 3,\n",
       " 4,\n",
       " 3,\n",
       " 4,\n",
       " 4,\n",
       " 2,\n",
       " 4,\n",
       " 3,\n",
       " 4,\n",
       " 3,\n",
       " 3,\n",
       " 3,\n",
       " 1,\n",
       " 4,\n",
       " 4,\n",
       " 4,\n",
       " 4,\n",
       " 4,\n",
       " 1,\n",
       " 4,\n",
       " 4,\n",
       " 4,\n",
       " 3,\n",
       " 3,\n",
       " 4,\n",
       " 4,\n",
       " 4,\n",
       " 4,\n",
       " 4,\n",
       " 3,\n",
       " 4,\n",
       " 4,\n",
       " 3,\n",
       " 2,\n",
       " 4,\n",
       " 4,\n",
       " 4,\n",
       " 1,\n",
       " 3,\n",
       " 4,\n",
       " 4,\n",
       " 4,\n",
       " 4,\n",
       " 2,\n",
       " 2,\n",
       " 4,\n",
       " 4,\n",
       " 4,\n",
       " 2,\n",
       " 4,\n",
       " 4,\n",
       " 3,\n",
       " 4,\n",
       " 4,\n",
       " 4,\n",
       " 4,\n",
       " 2,\n",
       " 4,\n",
       " 4,\n",
       " 4,\n",
       " 3,\n",
       " 4,\n",
       " 3,\n",
       " 3,\n",
       " 3,\n",
       " 4,\n",
       " 2,\n",
       " 4,\n",
       " 4,\n",
       " 2,\n",
       " 4,\n",
       " 4,\n",
       " 4,\n",
       " 3,\n",
       " 4,\n",
       " 4,\n",
       " 4,\n",
       " 3,\n",
       " 4,\n",
       " 3,\n",
       " 4,\n",
       " 3,\n",
       " 4,\n",
       " 3,\n",
       " 4,\n",
       " 2,\n",
       " 3,\n",
       " 3,\n",
       " 4,\n",
       " 4,\n",
       " 3,\n",
       " 3,\n",
       " 4,\n",
       " 2,\n",
       " 4,\n",
       " 3,\n",
       " 2,\n",
       " 2,\n",
       " 4,\n",
       " 4,\n",
       " 2,\n",
       " 2,\n",
       " 4,\n",
       " 4,\n",
       " 2,\n",
       " 2,\n",
       " 3,\n",
       " 3,\n",
       " 3,\n",
       " 4,\n",
       " 3,\n",
       " 4,\n",
       " 4,\n",
       " 4,\n",
       " 4,\n",
       " 4,\n",
       " 1,\n",
       " 3,\n",
       " 4,\n",
       " 4,\n",
       " 4,\n",
       " 4,\n",
       " 3,\n",
       " 4,\n",
       " 4,\n",
       " 4,\n",
       " 1,\n",
       " 4,\n",
       " 4,\n",
       " 4,\n",
       " 4,\n",
       " 4,\n",
       " 4,\n",
       " 4,\n",
       " 4,\n",
       " 1,\n",
       " 3,\n",
       " 4,\n",
       " 1,\n",
       " 4,\n",
       " 4,\n",
       " 2,\n",
       " 4,\n",
       " 2,\n",
       " 4,\n",
       " 4,\n",
       " 4,\n",
       " 3,\n",
       " 3,\n",
       " 3,\n",
       " 4,\n",
       " 4,\n",
       " 4,\n",
       " 4,\n",
       " 3,\n",
       " 2,\n",
       " 2,\n",
       " 4,\n",
       " 4,\n",
       " 3,\n",
       " 4,\n",
       " 4,\n",
       " 2,\n",
       " 4,\n",
       " 1,\n",
       " 4,\n",
       " 4,\n",
       " 4,\n",
       " 4,\n",
       " 4,\n",
       " 4,\n",
       " 4,\n",
       " 4,\n",
       " 3,\n",
       " 1,\n",
       " 1,\n",
       " 1,\n",
       " 4,\n",
       " 4,\n",
       " 4,\n",
       " 2,\n",
       " 4,\n",
       " 3,\n",
       " 3,\n",
       " 3,\n",
       " 4,\n",
       " 2,\n",
       " 4,\n",
       " 4,\n",
       " 3,\n",
       " 2,\n",
       " 4,\n",
       " 4,\n",
       " 4,\n",
       " 2,\n",
       " 4,\n",
       " 1,\n",
       " 4,\n",
       " 4,\n",
       " 4,\n",
       " 4,\n",
       " 3,\n",
       " 2,\n",
       " 2,\n",
       " 4,\n",
       " 4,\n",
       " 4,\n",
       " 3,\n",
       " 3,\n",
       " 3,\n",
       " 2,\n",
       " 2,\n",
       " 4,\n",
       " 3,\n",
       " 4,\n",
       " 3,\n",
       " 4,\n",
       " 4,\n",
       " 4,\n",
       " 4,\n",
       " 3,\n",
       " 4,\n",
       " 3,\n",
       " 4,\n",
       " 4,\n",
       " 3,\n",
       " 4,\n",
       " 4,\n",
       " 4,\n",
       " 3,\n",
       " 4,\n",
       " 4,\n",
       " 3,\n",
       " 3,\n",
       " 4,\n",
       " 3,\n",
       " 4,\n",
       " 2,\n",
       " 3,\n",
       " 2,\n",
       " 4,\n",
       " 3,\n",
       " 2,\n",
       " 3,\n",
       " 4,\n",
       " 4,\n",
       " 4,\n",
       " 2,\n",
       " 4,\n",
       " 4,\n",
       " 4,\n",
       " 3,\n",
       " 3,\n",
       " 4,\n",
       " 4,\n",
       " 2,\n",
       " 4,\n",
       " 3,\n",
       " 1,\n",
       " 3,\n",
       " 2,\n",
       " 4,\n",
       " 3,\n",
       " 3,\n",
       " 4,\n",
       " 3,\n",
       " 3,\n",
       " 4,\n",
       " 4,\n",
       " 2,\n",
       " 4,\n",
       " 3,\n",
       " 2,\n",
       " 3,\n",
       " 4,\n",
       " 3,\n",
       " 4,\n",
       " 4,\n",
       " 3,\n",
       " 3,\n",
       " 2,\n",
       " 4,\n",
       " 4,\n",
       " 4,\n",
       " 3,\n",
       " 4,\n",
       " 3,\n",
       " 4,\n",
       " 1,\n",
       " 4,\n",
       " 4,\n",
       " 2,\n",
       " 2,\n",
       " 4,\n",
       " 3,\n",
       " 1,\n",
       " 4,\n",
       " 3,\n",
       " 3,\n",
       " 4,\n",
       " 3,\n",
       " 4,\n",
       " 4,\n",
       " 4,\n",
       " 3,\n",
       " 3,\n",
       " 3,\n",
       " 4,\n",
       " 3,\n",
       " 1,\n",
       " 4,\n",
       " 2,\n",
       " 2,\n",
       " 4,\n",
       " 3,\n",
       " 3,\n",
       " 3,\n",
       " 2,\n",
       " 4,\n",
       " 4,\n",
       " 4,\n",
       " 3,\n",
       " 4,\n",
       " 4,\n",
       " 2,\n",
       " 3,\n",
       " 4,\n",
       " 4,\n",
       " 3,\n",
       " 3,\n",
       " 4,\n",
       " 3,\n",
       " 4,\n",
       " 4,\n",
       " 4,\n",
       " 4,\n",
       " 4,\n",
       " 4,\n",
       " 4,\n",
       " 3,\n",
       " 2,\n",
       " 4,\n",
       " 3,\n",
       " 4,\n",
       " 4,\n",
       " 3,\n",
       " 2,\n",
       " 4,\n",
       " 2,\n",
       " 4,\n",
       " 4,\n",
       " 4,\n",
       " 3,\n",
       " 4,\n",
       " 4,\n",
       " 4,\n",
       " 4,\n",
       " 2,\n",
       " 4,\n",
       " 4,\n",
       " 3,\n",
       " 3,\n",
       " 4,\n",
       " 3,\n",
       " 1,\n",
       " 3,\n",
       " 3,\n",
       " 2,\n",
       " 4,\n",
       " 4,\n",
       " 4,\n",
       " 3,\n",
       " 4,\n",
       " 2,\n",
       " 2,\n",
       " 4,\n",
       " 2,\n",
       " 2,\n",
       " 3,\n",
       " 4,\n",
       " 2,\n",
       " 3,\n",
       " 4,\n",
       " 3,\n",
       " 3,\n",
       " 4,\n",
       " 4,\n",
       " 4,\n",
       " 3,\n",
       " 2,\n",
       " 3,\n",
       " 3,\n",
       " 3,\n",
       " 4,\n",
       " 4,\n",
       " 4,\n",
       " 4,\n",
       " 2,\n",
       " 3,\n",
       " 4,\n",
       " 3,\n",
       " 2,\n",
       " 3,\n",
       " 3,\n",
       " 3,\n",
       " 4,\n",
       " 3,\n",
       " 4,\n",
       " 3,\n",
       " 4,\n",
       " 4,\n",
       " 4,\n",
       " 3,\n",
       " 4,\n",
       " 3,\n",
       " 2,\n",
       " 4,\n",
       " 4,\n",
       " 3,\n",
       " 3,\n",
       " 4,\n",
       " 3,\n",
       " 4,\n",
       " 3,\n",
       " 4,\n",
       " 3,\n",
       " 3,\n",
       " 3,\n",
       " 2,\n",
       " 3,\n",
       " 3,\n",
       " 4,\n",
       " 4,\n",
       " 1,\n",
       " 4,\n",
       " 3,\n",
       " 4,\n",
       " 3,\n",
       " 2,\n",
       " 4,\n",
       " 2,\n",
       " 4,\n",
       " 3,\n",
       " 3,\n",
       " 4,\n",
       " 3,\n",
       " 3,\n",
       " 4,\n",
       " 2,\n",
       " 4,\n",
       " 4,\n",
       " 4,\n",
       " 2,\n",
       " 4,\n",
       " 4,\n",
       " 4,\n",
       " 4,\n",
       " 4,\n",
       " 4,\n",
       " 4,\n",
       " 4,\n",
       " 4,\n",
       " 3,\n",
       " 2,\n",
       " 4,\n",
       " 2,\n",
       " 4,\n",
       " 4,\n",
       " 3,\n",
       " 4,\n",
       " 4,\n",
       " 4,\n",
       " 4,\n",
       " 4,\n",
       " 3,\n",
       " 3,\n",
       " 4,\n",
       " 2,\n",
       " 4,\n",
       " 4,\n",
       " 3,\n",
       " 1,\n",
       " 3,\n",
       " 4,\n",
       " 4,\n",
       " 1,\n",
       " 3,\n",
       " 4,\n",
       " 4,\n",
       " 4,\n",
       " 4,\n",
       " 3,\n",
       " 4,\n",
       " 2,\n",
       " 4,\n",
       " 4,\n",
       " 4,\n",
       " 4,\n",
       " 2,\n",
       " 4,\n",
       " 3,\n",
       " 4,\n",
       " 4,\n",
       " 4,\n",
       " 4,\n",
       " 3,\n",
       " 4,\n",
       " 4,\n",
       " 3,\n",
       " 2,\n",
       " 3,\n",
       " 4,\n",
       " 2,\n",
       " 4,\n",
       " 4,\n",
       " 4,\n",
       " 3,\n",
       " 4,\n",
       " 3,\n",
       " 4,\n",
       " 4,\n",
       " 4,\n",
       " 4,\n",
       " 3,\n",
       " 4,\n",
       " 3,\n",
       " 3,\n",
       " 4,\n",
       " 2,\n",
       " 2,\n",
       " 3,\n",
       " 4,\n",
       " 4,\n",
       " 3,\n",
       " 4,\n",
       " 4,\n",
       " 3,\n",
       " 4,\n",
       " 3,\n",
       " 3,\n",
       " 4,\n",
       " 4,\n",
       " 4,\n",
       " 4,\n",
       " 4,\n",
       " 4,\n",
       " 3,\n",
       " 3,\n",
       " 4,\n",
       " 3,\n",
       " 2,\n",
       " 1,\n",
       " 4,\n",
       " 4,\n",
       " 3,\n",
       " 4,\n",
       " 3,\n",
       " 4,\n",
       " 3,\n",
       " 3,\n",
       " 4,\n",
       " 3,\n",
       " 4,\n",
       " 2,\n",
       " 2,\n",
       " 4,\n",
       " 4,\n",
       " 2,\n",
       " 4,\n",
       " 3,\n",
       " 4,\n",
       " 3,\n",
       " 4,\n",
       " 2,\n",
       " 4,\n",
       " 3,\n",
       " 2,\n",
       " 4,\n",
       " 3,\n",
       " 4,\n",
       " 2,\n",
       " 2,\n",
       " 3,\n",
       " 2,\n",
       " 3,\n",
       " 4,\n",
       " 4,\n",
       " 4,\n",
       " 4,\n",
       " 4,\n",
       " 4,\n",
       " 3,\n",
       " 4,\n",
       " 4,\n",
       " 3,\n",
       " 4,\n",
       " 2,\n",
       " 4,\n",
       " 4,\n",
       " 4,\n",
       " 4,\n",
       " 4,\n",
       " 4,\n",
       " 4,\n",
       " 2,\n",
       " 4,\n",
       " 4,\n",
       " 4,\n",
       " 4,\n",
       " 3,\n",
       " 4,\n",
       " 3,\n",
       " 4,\n",
       " 1,\n",
       " 4,\n",
       " 4,\n",
       " 3,\n",
       " 2,\n",
       " 4,\n",
       " 3,\n",
       " 3,\n",
       " 4,\n",
       " 4,\n",
       " 3,\n",
       " 3,\n",
       " 4,\n",
       " 4,\n",
       " 3,\n",
       " 2,\n",
       " 4,\n",
       " 4,\n",
       " 2,\n",
       " 3,\n",
       " 4,\n",
       " 4,\n",
       " 4,\n",
       " 4,\n",
       " 4,\n",
       " 3,\n",
       " 4,\n",
       " 4,\n",
       " 3,\n",
       " 4,\n",
       " 1,\n",
       " 4,\n",
       " 1,\n",
       " 4,\n",
       " 4,\n",
       " 4,\n",
       " 2,\n",
       " 4,\n",
       " 3,\n",
       " 4,\n",
       " 4,\n",
       " 2,\n",
       " 4,\n",
       " 1,\n",
       " 3,\n",
       " 3,\n",
       " 3,\n",
       " 4,\n",
       " 1,\n",
       " 3,\n",
       " 4,\n",
       " 4,\n",
       " 3,\n",
       " 2,\n",
       " 4,\n",
       " 2,\n",
       " 4,\n",
       " 4,\n",
       " 3,\n",
       " 4,\n",
       " 3,\n",
       " 4,\n",
       " 4,\n",
       " 1,\n",
       " 4,\n",
       " 2,\n",
       " 3,\n",
       " 3,\n",
       " 3,\n",
       " 2,\n",
       " 4,\n",
       " 3,\n",
       " 4,\n",
       " 4,\n",
       " 4,\n",
       " 4,\n",
       " 2,\n",
       " 1,\n",
       " 2,\n",
       " 4,\n",
       " 3,\n",
       " 4,\n",
       " 4,\n",
       " 4,\n",
       " 3,\n",
       " 4,\n",
       " 3,\n",
       " 1,\n",
       " 4,\n",
       " 3,\n",
       " 3,\n",
       " 2,\n",
       " 4,\n",
       " 3,\n",
       " 3,\n",
       " 2,\n",
       " 4,\n",
       " 3,\n",
       " 4,\n",
       " 3,\n",
       " 4,\n",
       " 4,\n",
       " 4,\n",
       " 4,\n",
       " 3,\n",
       " 4,\n",
       " 4,\n",
       " 4,\n",
       " 4,\n",
       " 4,\n",
       " 4,\n",
       " 3,\n",
       " 2,\n",
       " 4,\n",
       " 2,\n",
       " 3,\n",
       " 3,\n",
       " 3,\n",
       " 4,\n",
       " 4,\n",
       " 4,\n",
       " 4,\n",
       " 3,\n",
       " 3,\n",
       " 4,\n",
       " 4,\n",
       " 4,\n",
       " 3,\n",
       " 3,\n",
       " 2,\n",
       " 4,\n",
       " 4,\n",
       " 4,\n",
       " 4,\n",
       " 1,\n",
       " 4,\n",
       " 4,\n",
       " 4,\n",
       " 4,\n",
       " 3,\n",
       " 4,\n",
       " 4,\n",
       " 4,\n",
       " 2,\n",
       " 4,\n",
       " 4,\n",
       " 4,\n",
       " 4,\n",
       " 1,\n",
       " 4,\n",
       " 1,\n",
       " 4,\n",
       " 4,\n",
       " 4,\n",
       " 4,\n",
       " 4,\n",
       " 2,\n",
       " 4,\n",
       " 1,\n",
       " 4,\n",
       " 1,\n",
       " 4,\n",
       " 4,\n",
       " 4,\n",
       " 4,\n",
       " 3,\n",
       " 4,\n",
       " 1,\n",
       " 4,\n",
       " 4,\n",
       " 4,\n",
       " 4,\n",
       " 3,\n",
       " 3,\n",
       " 3,\n",
       " 3,\n",
       " 4,\n",
       " 3,\n",
       " 3,\n",
       " 2,\n",
       " 3,\n",
       " 4,\n",
       " 4,\n",
       " 4,\n",
       " 1,\n",
       " 4,\n",
       " 2,\n",
       " 4,\n",
       " 4,\n",
       " 4,\n",
       " 4,\n",
       " 3,\n",
       " 4,\n",
       " 3,\n",
       " 4,\n",
       " 4,\n",
       " 3,\n",
       " 1,\n",
       " 4,\n",
       " 4,\n",
       " 4,\n",
       " 3,\n",
       " 4,\n",
       " 2,\n",
       " 4,\n",
       " 4,\n",
       " 3,\n",
       " 4,\n",
       " 3,\n",
       " 4,\n",
       " 4,\n",
       " 3,\n",
       " 2,\n",
       " 4,\n",
       " 4,\n",
       " 4,\n",
       " 1,\n",
       " 4,\n",
       " 4,\n",
       " 1,\n",
       " 4,\n",
       " 4,\n",
       " 4,\n",
       " 4,\n",
       " 4,\n",
       " 3,\n",
       " 2,\n",
       " 3,\n",
       " 4,\n",
       " 3,\n",
       " 3,\n",
       " 2,\n",
       " 3,\n",
       " 3,\n",
       " 4,\n",
       " 4,\n",
       " 4,\n",
       " 2,\n",
       " 4,\n",
       " 4,\n",
       " 2,\n",
       " 4,\n",
       " 3,\n",
       " 1,\n",
       " 4,\n",
       " 4,\n",
       " 2,\n",
       " 4,\n",
       " 1,\n",
       " 4,\n",
       " 4,\n",
       " 3,\n",
       " 3,\n",
       " 3,\n",
       " 3,\n",
       " 3,\n",
       " 4,\n",
       " 3,\n",
       " 4,\n",
       " 3,\n",
       " 3,\n",
       " 2,\n",
       " 4,\n",
       " 3,\n",
       " 4,\n",
       " 4,\n",
       " 4,\n",
       " 4,\n",
       " 4,\n",
       " 4,\n",
       " 3,\n",
       " 4,\n",
       " 3,\n",
       " 3,\n",
       " 4,\n",
       " 3,\n",
       " 3,\n",
       " 2,\n",
       " 4,\n",
       " 4,\n",
       " 4,\n",
       " ...]"
      ]
     },
     "execution_count": 444,
     "metadata": {
      "tags": []
     },
     "output_type": "execute_result"
    }
   ],
   "source": [
    "outlier=[]\n",
    "for x in data['education-num']:\n",
    "    if((x>up_lim)) or ((x<low_lim)):\n",
    "        outlier.append(x)\n",
    "outlier       "
   ]
  },
  {
   "cell_type": "code",
   "execution_count": 445,
   "metadata": {
    "colab": {
     "base_uri": "https://localhost:8080/"
    },
    "id": "5Ug24EwS7D1Q",
    "outputId": "7c266084-e49c-498b-a261-e43cc229b79a"
   },
   "outputs": [
    {
     "data": {
      "text/plain": [
       "Int64Index([   15,    56,    61,    79,   160,   183,   195,   214,   221,\n",
       "              224,\n",
       "            ...\n",
       "            32401, 32403, 32413, 32425, 32430, 32431, 32432, 32448, 32479,\n",
       "            32517],\n",
       "           dtype='int64', length=1177)"
      ]
     },
     "execution_count": 445,
     "metadata": {
      "tags": []
     },
     "output_type": "execute_result"
    }
   ],
   "source": [
    "ind1=(data['education-num']>up_lim)|(data['education-num']<low_lim)\n",
    "data.loc[ind1].index"
   ]
  },
  {
   "cell_type": "code",
   "execution_count": 446,
   "metadata": {
    "colab": {
     "base_uri": "https://localhost:8080/",
     "height": 0
    },
    "id": "fy5KUWQs7Ilo",
    "outputId": "f9e9f8bb-1d06-4bd4-8d72-70a4c58f9fd9"
   },
   "outputs": [
    {
     "data": {
      "text/plain": [
       "Text(0.5, 1.0, 'education-num')"
      ]
     },
     "execution_count": 446,
     "metadata": {
      "tags": []
     },
     "output_type": "execute_result"
    },
    {
     "data": {
      "image/png": "[encoded data removed]",
      "text/plain": [
       "<Figure size 432x288 with 1 Axes>"
      ]
     },
     "metadata": {
      "tags": []
     },
     "output_type": "display_data"
    }
   ],
   "source": [
    "data.drop(data.loc[ind1].index,inplace=True)\n",
    "plt.boxplot(data['education-num'])\n",
    "plt.title('education-num')"
   ]
  },
  {
   "cell_type": "code",
   "execution_count": 447,
   "metadata": {
    "colab": {
     "base_uri": "https://localhost:8080/"
    },
    "id": "oBhMdFMYzas_",
    "outputId": "e2a66cb7-3f00-406b-e2a4-a6179f295cab"
   },
   "outputs": [
    {
     "name": "stdout",
     "output_type": "stream",
     "text": [
      "40.0\n",
      "40.0\n",
      "45.0\n",
      "32.5\n",
      "52.5\n"
     ]
    }
   ],
   "source": [
    "#Outlier handling - hours-per-week\n",
    "Q1=np.percentile(data['hours-per-week'],25,interpolation='midpoint')\n",
    "Q2=np.percentile(data['hours-per-week'],50,interpolation='midpoint')\n",
    "Q3=np.percentile(data['hours-per-week'],75,interpolation='midpoint')\n",
    "print(Q1)\n",
    "print(Q2)\n",
    "print(Q3)\n",
    "IQR=Q3-Q1\n",
    "low_lim=Q1-1.5*IQR\n",
    "up_lim=Q3+1.5*IQR\n",
    "print(low_lim)\n",
    "print(up_lim)"
   ]
  },
  {
   "cell_type": "code",
   "execution_count": 448,
   "metadata": {
    "colab": {
     "base_uri": "https://localhost:8080/"
    },
    "id": "FB9SpDxEzatA",
    "outputId": "619a6448-cb57-4fd4-8416-70f3a04d1fb6"
   },
   "outputs": [
    {
     "data": {
      "text/plain": [
       "[13,\n",
       " 16,\n",
       " 80,\n",
       " 30,\n",
       " 60,\n",
       " 20,\n",
       " 60,\n",
       " 80,\n",
       " 15,\n",
       " 25,\n",
       " 30,\n",
       " 60,\n",
       " 55,\n",
       " 60,\n",
       " 58,\n",
       " 32,\n",
       " 70,\n",
       " 2,\n",
       " 22,\n",
       " 30,\n",
       " 25,\n",
       " 60,\n",
       " 60,\n",
       " 32,\n",
       " 25,\n",
       " 56,\n",
       " 60,\n",
       " 28,\n",
       " 60,\n",
       " 60,\n",
       " 20,\n",
       " 30,\n",
       " 30,\n",
       " 24,\n",
       " 24,\n",
       " 2,\n",
       " 60,\n",
       " 16,\n",
       " 20,\n",
       " 25,\n",
       " 12,\n",
       " 65,\n",
       " 1,\n",
       " 28,\n",
       " 24,\n",
       " 55,\n",
       " 60,\n",
       " 12,\n",
       " 60,\n",
       " 55,\n",
       " 20,\n",
       " 10,\n",
       " 20,\n",
       " 55,\n",
       " 70,\n",
       " 20,\n",
       " 20,\n",
       " 60,\n",
       " 30,\n",
       " 20,\n",
       " 30,\n",
       " 60,\n",
       " 12,\n",
       " 75,\n",
       " 24,\n",
       " 24,\n",
       " 98,\n",
       " 15,\n",
       " 60,\n",
       " 56,\n",
       " 16,\n",
       " 60,\n",
       " 80,\n",
       " 25,\n",
       " 54,\n",
       " 25,\n",
       " 15,\n",
       " 24,\n",
       " 10,\n",
       " 15,\n",
       " 55,\n",
       " 60,\n",
       " 30,\n",
       " 20,\n",
       " 8,\n",
       " 25,\n",
       " 25,\n",
       " 30,\n",
       " 24,\n",
       " 55,\n",
       " 15,\n",
       " 15,\n",
       " 10,\n",
       " 10,\n",
       " 30,\n",
       " 25,\n",
       " 6,\n",
       " 16,\n",
       " 55,\n",
       " 64,\n",
       " 65,\n",
       " 25,\n",
       " 24,\n",
       " 60,\n",
       " 19,\n",
       " 30,\n",
       " 18,\n",
       " 60,\n",
       " 72,\n",
       " 25,\n",
       " 60,\n",
       " 28,\n",
       " 5,\n",
       " 55,\n",
       " 60,\n",
       " 20,\n",
       " 60,\n",
       " 16,\n",
       " 60,\n",
       " 24,\n",
       " 6,\n",
       " 30,\n",
       " 20,\n",
       " 20,\n",
       " 20,\n",
       " 60,\n",
       " 60,\n",
       " 25,\n",
       " 20,\n",
       " 20,\n",
       " 8,\n",
       " 20,\n",
       " 24,\n",
       " 80,\n",
       " 58,\n",
       " 9,\n",
       " 8,\n",
       " 20,\n",
       " 32,\n",
       " 55,\n",
       " 60,\n",
       " 12,\n",
       " 70,\n",
       " 25,\n",
       " 30,\n",
       " 24,\n",
       " 60,\n",
       " 80,\n",
       " 25,\n",
       " 28,\n",
       " 21,\n",
       " 60,\n",
       " 20,\n",
       " 60,\n",
       " 32,\n",
       " 55,\n",
       " 20,\n",
       " 20,\n",
       " 24,\n",
       " 55,\n",
       " 60,\n",
       " 64,\n",
       " 26,\n",
       " 60,\n",
       " 60,\n",
       " 14,\n",
       " 60,\n",
       " 60,\n",
       " 55,\n",
       " 15,\n",
       " 20,\n",
       " 32,\n",
       " 15,\n",
       " 60,\n",
       " 25,\n",
       " 20,\n",
       " 10,\n",
       " 16,\n",
       " 5,\n",
       " 55,\n",
       " 30,\n",
       " 20,\n",
       " 20,\n",
       " 60,\n",
       " 20,\n",
       " 30,\n",
       " 65,\n",
       " 25,\n",
       " 15,\n",
       " 60,\n",
       " 20,\n",
       " 59,\n",
       " 24,\n",
       " 15,\n",
       " 20,\n",
       " 25,\n",
       " 72,\n",
       " 20,\n",
       " 20,\n",
       " 18,\n",
       " 70,\n",
       " 55,\n",
       " 30,\n",
       " 55,\n",
       " 24,\n",
       " 56,\n",
       " 60,\n",
       " 55,\n",
       " 30,\n",
       " 16,\n",
       " 60,\n",
       " 20,\n",
       " 30,\n",
       " 20,\n",
       " 20,\n",
       " 30,\n",
       " 20,\n",
       " 75,\n",
       " 60,\n",
       " 60,\n",
       " 24,\n",
       " 25,\n",
       " 15,\n",
       " 24,\n",
       " 6,\n",
       " 20,\n",
       " 18,\n",
       " 55,\n",
       " 56,\n",
       " 20,\n",
       " 70,\n",
       " 15,\n",
       " 28,\n",
       " 60,\n",
       " 7,\n",
       " 30,\n",
       " 70,\n",
       " 60,\n",
       " 15,\n",
       " 28,\n",
       " 60,\n",
       " 30,\n",
       " 65,\n",
       " 55,\n",
       " 20,\n",
       " 15,\n",
       " 10,\n",
       " 30,\n",
       " 60,\n",
       " 20,\n",
       " 25,\n",
       " 5,\n",
       " 60,\n",
       " 55,\n",
       " 10,\n",
       " 99,\n",
       " 25,\n",
       " 30,\n",
       " 20,\n",
       " 30,\n",
       " 70,\n",
       " 70,\n",
       " 20,\n",
       " 60,\n",
       " 20,\n",
       " 20,\n",
       " 70,\n",
       " 20,\n",
       " 30,\n",
       " 55,\n",
       " 58,\n",
       " 65,\n",
       " 60,\n",
       " 16,\n",
       " 25,\n",
       " 32,\n",
       " 30,\n",
       " 30,\n",
       " 55,\n",
       " 20,\n",
       " 1,\n",
       " 75,\n",
       " 30,\n",
       " 8,\n",
       " 60,\n",
       " 55,\n",
       " 20,\n",
       " 55,\n",
       " 75,\n",
       " 32,\n",
       " 80,\n",
       " 80,\n",
       " 60,\n",
       " 20,\n",
       " 15,\n",
       " 20,\n",
       " 60,\n",
       " 28,\n",
       " 60,\n",
       " 20,\n",
       " 25,\n",
       " 60,\n",
       " 25,\n",
       " 25,\n",
       " 55,\n",
       " 70,\n",
       " 60,\n",
       " 53,\n",
       " 20,\n",
       " 60,\n",
       " 60,\n",
       " 30,\n",
       " 54,\n",
       " 54,\n",
       " 28,\n",
       " 60,\n",
       " 20,\n",
       " 8,\n",
       " 99,\n",
       " 30,\n",
       " 30,\n",
       " 30,\n",
       " 65,\n",
       " 60,\n",
       " 25,\n",
       " 60,\n",
       " 55,\n",
       " 80,\n",
       " 30,\n",
       " 60,\n",
       " 62,\n",
       " 20,\n",
       " 16,\n",
       " 72,\n",
       " 60,\n",
       " 60,\n",
       " 30,\n",
       " 24,\n",
       " 30,\n",
       " 25,\n",
       " 59,\n",
       " 12,\n",
       " 20,\n",
       " 60,\n",
       " 60,\n",
       " 1,\n",
       " 80,\n",
       " 7,\n",
       " 10,\n",
       " 65,\n",
       " 57,\n",
       " 60,\n",
       " 25,\n",
       " 55,\n",
       " 30,\n",
       " 24,\n",
       " 20,\n",
       " 20,\n",
       " 60,\n",
       " 16,\n",
       " 16,\n",
       " 30,\n",
       " 60,\n",
       " 60,\n",
       " 55,\n",
       " 24,\n",
       " 6,\n",
       " 30,\n",
       " 55,\n",
       " 60,\n",
       " 70,\n",
       " 5,\n",
       " 30,\n",
       " 60,\n",
       " 25,\n",
       " 32,\n",
       " 78,\n",
       " 60,\n",
       " 20,\n",
       " 90,\n",
       " 15,\n",
       " 60,\n",
       " 16,\n",
       " 60,\n",
       " 66,\n",
       " 30,\n",
       " 60,\n",
       " 2,\n",
       " 60,\n",
       " 75,\n",
       " 60,\n",
       " 5,\n",
       " 11,\n",
       " 24,\n",
       " 25,\n",
       " 25,\n",
       " 60,\n",
       " 65,\n",
       " 55,\n",
       " 80,\n",
       " 55,\n",
       " 14,\n",
       " 65,\n",
       " 58,\n",
       " 30,\n",
       " 9,\n",
       " 55,\n",
       " 15,\n",
       " 12,\n",
       " 30,\n",
       " 70,\n",
       " 30,\n",
       " 24,\n",
       " 30,\n",
       " 65,\n",
       " 8,\n",
       " 6,\n",
       " 16,\n",
       " 16,\n",
       " 30,\n",
       " 8,\n",
       " 20,\n",
       " 16,\n",
       " 10,\n",
       " 60,\n",
       " 60,\n",
       " 60,\n",
       " 20,\n",
       " 30,\n",
       " 30,\n",
       " 60,\n",
       " 70,\n",
       " 60,\n",
       " 21,\n",
       " 70,\n",
       " 24,\n",
       " 60,\n",
       " 10,\n",
       " 20,\n",
       " 55,\n",
       " 20,\n",
       " 30,\n",
       " 16,\n",
       " 18,\n",
       " 60,\n",
       " 60,\n",
       " 20,\n",
       " 12,\n",
       " 60,\n",
       " 60,\n",
       " 80,\n",
       " 20,\n",
       " 60,\n",
       " 15,\n",
       " 15,\n",
       " 70,\n",
       " 30,\n",
       " 90,\n",
       " 16,\n",
       " 72,\n",
       " 32,\n",
       " 60,\n",
       " 55,\n",
       " 60,\n",
       " 60,\n",
       " 70,\n",
       " 10,\n",
       " 20,\n",
       " 20,\n",
       " 20,\n",
       " 30,\n",
       " 60,\n",
       " 56,\n",
       " 84,\n",
       " 30,\n",
       " 55,\n",
       " 10,\n",
       " 24,\n",
       " 30,\n",
       " 30,\n",
       " 60,\n",
       " 8,\n",
       " 24,\n",
       " 54,\n",
       " 15,\n",
       " 20,\n",
       " 25,\n",
       " 65,\n",
       " 10,\n",
       " 60,\n",
       " 99,\n",
       " 15,\n",
       " 16,\n",
       " 55,\n",
       " 55,\n",
       " 60,\n",
       " 70,\n",
       " 18,\n",
       " 55,\n",
       " 80,\n",
       " 25,\n",
       " 60,\n",
       " 25,\n",
       " 6,\n",
       " 20,\n",
       " 30,\n",
       " 55,\n",
       " 20,\n",
       " 3,\n",
       " 70,\n",
       " 60,\n",
       " 55,\n",
       " 30,\n",
       " 70,\n",
       " 20,\n",
       " 80,\n",
       " 60,\n",
       " 10,\n",
       " 16,\n",
       " 60,\n",
       " 70,\n",
       " 10,\n",
       " 30,\n",
       " 20,\n",
       " 20,\n",
       " 30,\n",
       " 32,\n",
       " 30,\n",
       " 60,\n",
       " 17,\n",
       " 60,\n",
       " 16,\n",
       " 4,\n",
       " 55,\n",
       " 60,\n",
       " 10,\n",
       " 55,\n",
       " 30,\n",
       " 5,\n",
       " 53,\n",
       " 16,\n",
       " 15,\n",
       " 70,\n",
       " 60,\n",
       " 25,\n",
       " 28,\n",
       " 55,\n",
       " 30,\n",
       " 70,\n",
       " 65,\n",
       " 17,\n",
       " 55,\n",
       " 8,\n",
       " 15,\n",
       " 30,\n",
       " 5,\n",
       " 68,\n",
       " 65,\n",
       " 30,\n",
       " 18,\n",
       " 70,\n",
       " 60,\n",
       " 60,\n",
       " 12,\n",
       " 60,\n",
       " 30,\n",
       " 8,\n",
       " 22,\n",
       " 55,\n",
       " 18,\n",
       " 55,\n",
       " 25,\n",
       " 60,\n",
       " 21,\n",
       " 10,\n",
       " 10,\n",
       " 70,\n",
       " 20,\n",
       " 27,\n",
       " 55,\n",
       " 25,\n",
       " 24,\n",
       " 15,\n",
       " 15,\n",
       " 20,\n",
       " 60,\n",
       " 60,\n",
       " 60,\n",
       " 60,\n",
       " 60,\n",
       " 55,\n",
       " 20,\n",
       " 60,\n",
       " 90,\n",
       " 65,\n",
       " 20,\n",
       " 25,\n",
       " 25,\n",
       " 25,\n",
       " 60,\n",
       " 30,\n",
       " 30,\n",
       " 25,\n",
       " 3,\n",
       " 70,\n",
       " 60,\n",
       " 30,\n",
       " 10,\n",
       " 30,\n",
       " 65,\n",
       " 55,\n",
       " 54,\n",
       " 30,\n",
       " 65,\n",
       " 25,\n",
       " 30,\n",
       " 60,\n",
       " 84,\n",
       " 25,\n",
       " 24,\n",
       " 20,\n",
       " 3,\n",
       " 25,\n",
       " 25,\n",
       " 30,\n",
       " 20,\n",
       " 8,\n",
       " 55,\n",
       " 54,\n",
       " 60,\n",
       " 30,\n",
       " 10,\n",
       " 5,\n",
       " 8,\n",
       " 20,\n",
       " 25,\n",
       " 60,\n",
       " 60,\n",
       " 55,\n",
       " 25,\n",
       " 6,\n",
       " 60,\n",
       " 60,\n",
       " 30,\n",
       " 56,\n",
       " 25,\n",
       " 25,\n",
       " 65,\n",
       " 8,\n",
       " 70,\n",
       " 60,\n",
       " 21,\n",
       " 15,\n",
       " 20,\n",
       " 20,\n",
       " 30,\n",
       " 13,\n",
       " 65,\n",
       " 30,\n",
       " 65,\n",
       " 25,\n",
       " 60,\n",
       " 20,\n",
       " 3,\n",
       " 24,\n",
       " 55,\n",
       " 27,\n",
       " 55,\n",
       " 25,\n",
       " 30,\n",
       " 20,\n",
       " 20,\n",
       " 60,\n",
       " 70,\n",
       " 60,\n",
       " 20,\n",
       " 60,\n",
       " 30,\n",
       " 15,\n",
       " 25,\n",
       " 55,\n",
       " 24,\n",
       " 60,\n",
       " 56,\n",
       " 70,\n",
       " 24,\n",
       " 28,\n",
       " 15,\n",
       " 58,\n",
       " 5,\n",
       " 70,\n",
       " 55,\n",
       " 15,\n",
       " 20,\n",
       " 25,\n",
       " 30,\n",
       " 20,\n",
       " 55,\n",
       " 25,\n",
       " 20,\n",
       " 30,\n",
       " 32,\n",
       " 10,\n",
       " 55,\n",
       " 11,\n",
       " 20,\n",
       " 65,\n",
       " 60,\n",
       " 25,\n",
       " 84,\n",
       " 30,\n",
       " 55,\n",
       " 18,\n",
       " 60,\n",
       " 70,\n",
       " 60,\n",
       " 60,\n",
       " 30,\n",
       " 60,\n",
       " 55,\n",
       " 60,\n",
       " 25,\n",
       " 60,\n",
       " 20,\n",
       " 10,\n",
       " 30,\n",
       " 30,\n",
       " 20,\n",
       " 20,\n",
       " 24,\n",
       " 30,\n",
       " 30,\n",
       " 55,\n",
       " 60,\n",
       " 55,\n",
       " 60,\n",
       " 20,\n",
       " 15,\n",
       " 60,\n",
       " 60,\n",
       " 20,\n",
       " 30,\n",
       " 58,\n",
       " 55,\n",
       " 25,\n",
       " 30,\n",
       " 60,\n",
       " 16,\n",
       " 27,\n",
       " 30,\n",
       " 75,\n",
       " 8,\n",
       " 30,\n",
       " 60,\n",
       " 98,\n",
       " 60,\n",
       " 70,\n",
       " 5,\n",
       " 2,\n",
       " 25,\n",
       " 20,\n",
       " 16,\n",
       " 10,\n",
       " 55,\n",
       " 22,\n",
       " 30,\n",
       " 80,\n",
       " 85,\n",
       " 20,\n",
       " 56,\n",
       " 30,\n",
       " 30,\n",
       " 30,\n",
       " 25,\n",
       " 60,\n",
       " 30,\n",
       " 32,\n",
       " 30,\n",
       " 8,\n",
       " 25,\n",
       " 30,\n",
       " 60,\n",
       " 65,\n",
       " 32,\n",
       " 60,\n",
       " 75,\n",
       " 25,\n",
       " 60,\n",
       " 60,\n",
       " 6,\n",
       " 55,\n",
       " 60,\n",
       " 9,\n",
       " 15,\n",
       " 30,\n",
       " 30,\n",
       " 55,\n",
       " 56,\n",
       " 60,\n",
       " 20,\n",
       " 15,\n",
       " 30,\n",
       " 30,\n",
       " 60,\n",
       " 15,\n",
       " 60,\n",
       " 30,\n",
       " 10,\n",
       " 56,\n",
       " 25,\n",
       " 84,\n",
       " 70,\n",
       " 65,\n",
       " 20,\n",
       " 20,\n",
       " 56,\n",
       " 30,\n",
       " 55,\n",
       " 60,\n",
       " 20,\n",
       " 55,\n",
       " 30,\n",
       " 65,\n",
       " 15,\n",
       " 25,\n",
       " 70,\n",
       " 60,\n",
       " 60,\n",
       " 60,\n",
       " 60,\n",
       " 60,\n",
       " 30,\n",
       " 65,\n",
       " 18,\n",
       " 55,\n",
       " 17,\n",
       " 55,\n",
       " 60,\n",
       " 70,\n",
       " 65,\n",
       " 80,\n",
       " 55,\n",
       " 20,\n",
       " 55,\n",
       " 60,\n",
       " 30,\n",
       " 10,\n",
       " 25,\n",
       " 20,\n",
       " 72,\n",
       " 60,\n",
       " 28,\n",
       " 3,\n",
       " 30,\n",
       " 55,\n",
       " 30,\n",
       " 60,\n",
       " 54,\n",
       " 16,\n",
       " 60,\n",
       " 62,\n",
       " 84,\n",
       " 26,\n",
       " 25,\n",
       " 20,\n",
       " 32,\n",
       " 25,\n",
       " 70,\n",
       " 60,\n",
       " 54,\n",
       " 60,\n",
       " 20,\n",
       " 60,\n",
       " 20,\n",
       " 30,\n",
       " 60,\n",
       " 18,\n",
       " 30,\n",
       " 60,\n",
       " 25,\n",
       " 32,\n",
       " 20,\n",
       " 59,\n",
       " 60,\n",
       " 15,\n",
       " 32,\n",
       " 55,\n",
       " 12,\n",
       " 20,\n",
       " 25,\n",
       " 55,\n",
       " 20,\n",
       " 55,\n",
       " 20,\n",
       " 60,\n",
       " 20,\n",
       " 16,\n",
       " 15,\n",
       " 60,\n",
       " 20,\n",
       " 25,\n",
       " 65,\n",
       " 20,\n",
       " 55,\n",
       " 24,\n",
       " 28,\n",
       " 25,\n",
       " 60,\n",
       " 16,\n",
       " 60,\n",
       " 20,\n",
       " 16,\n",
       " 60,\n",
       " 32,\n",
       " 55,\n",
       " 12,\n",
       " 60,\n",
       " 20,\n",
       " 99,\n",
       " 25,\n",
       " 65,\n",
       " 32,\n",
       " 12,\n",
       " 32,\n",
       " 30,\n",
       " 20,\n",
       " 25,\n",
       " 20,\n",
       " 16,\n",
       " 20,\n",
       " 15,\n",
       " 27,\n",
       " 56,\n",
       " 27,\n",
       " 60,\n",
       " 60,\n",
       " 20,\n",
       " 32,\n",
       " 60,\n",
       " 60,\n",
       " 30,\n",
       " 60,\n",
       " 60,\n",
       " 75,\n",
       " 30,\n",
       " 60,\n",
       " 20,\n",
       " 30,\n",
       " 30,\n",
       " 5,\n",
       " 30,\n",
       " 60,\n",
       " 20,\n",
       " 20,\n",
       " 60,\n",
       " 20,\n",
       " 22,\n",
       " 55,\n",
       " 60,\n",
       " 5,\n",
       " 28,\n",
       " 30,\n",
       " 8,\n",
       " 30,\n",
       " 30,\n",
       " 30,\n",
       " 30,\n",
       " 80,\n",
       " 20,\n",
       " 55,\n",
       " 30,\n",
       " 30,\n",
       " 30,\n",
       " 20,\n",
       " 56,\n",
       " 3,\n",
       " 20,\n",
       " 66,\n",
       " 32,\n",
       " 60,\n",
       " 75,\n",
       " 20,\n",
       " 10,\n",
       " 30,\n",
       " 18,\n",
       " 10,\n",
       " 30,\n",
       " 20,\n",
       " 16,\n",
       " 24,\n",
       " 30,\n",
       " 60,\n",
       " 66,\n",
       " 70,\n",
       " 24,\n",
       " 30,\n",
       " 20,\n",
       " 72,\n",
       " 20,\n",
       " 60,\n",
       " ...]"
      ]
     },
     "execution_count": 448,
     "metadata": {
      "tags": []
     },
     "output_type": "execute_result"
    }
   ],
   "source": [
    "outlier=[]\n",
    "for x in data['hours-per-week']:\n",
    "    if((x>up_lim)) or ((x<low_lim)):\n",
    "        outlier.append(x)\n",
    "outlier        "
   ]
  },
  {
   "cell_type": "code",
   "execution_count": 449,
   "metadata": {
    "colab": {
     "base_uri": "https://localhost:8080/"
    },
    "id": "TMNZ_juLzatB",
    "outputId": "493347b5-2697-4f5d-9194-3cb6e2b88be2"
   },
   "outputs": [
    {
     "data": {
      "text/plain": [
       "Int64Index([    1,     6,    10,    12,    20,    21,    27,    28,    34,\n",
       "               37,\n",
       "            ...\n",
       "            32532, 32536, 32539, 32541, 32542, 32544, 32545, 32548, 32553,\n",
       "            32559],\n",
       "           dtype='int64', length=8592)"
      ]
     },
     "execution_count": 449,
     "metadata": {
      "tags": []
     },
     "output_type": "execute_result"
    }
   ],
   "source": [
    "ind1=(data['hours-per-week']>up_lim)|(data['hours-per-week']<low_lim)\n",
    "data.loc[ind1].index"
   ]
  },
  {
   "cell_type": "code",
   "execution_count": 450,
   "metadata": {
    "colab": {
     "base_uri": "https://localhost:8080/",
     "height": 0
    },
    "id": "JN9mEErdzatB",
    "outputId": "b56871cb-9c8d-4fcf-eddd-37cbc4c188cd"
   },
   "outputs": [
    {
     "data": {
      "text/plain": [
       "Text(0.5, 1.0, 'hours-per-week')"
      ]
     },
     "execution_count": 450,
     "metadata": {
      "tags": []
     },
     "output_type": "execute_result"
    },
    {
     "data": {
      "image/png": "[encoded data removed]",
      "text/plain": [
       "<Figure size 432x288 with 1 Axes>"
      ]
     },
     "metadata": {
      "tags": []
     },
     "output_type": "display_data"
    }
   ],
   "source": [
    "data.drop(data.loc[ind1].index,inplace=True)\n",
    "plt.boxplot(data['hours-per-week'])\n",
    "plt.title('hours-per-week')"
   ]
  },
  {
   "cell_type": "code",
   "execution_count": 451,
   "metadata": {
    "colab": {
     "base_uri": "https://localhost:8080/"
    },
    "id": "nmHwWK9MzatC",
    "outputId": "55e85496-1278-430c-f879-c9cbf3d4baac"
   },
   "outputs": [
    {
     "data": {
      "text/plain": [
       "(22649, 14)"
      ]
     },
     "execution_count": 451,
     "metadata": {
      "tags": []
     },
     "output_type": "execute_result"
    }
   ],
   "source": [
    "data.shape"
   ]
  },
  {
   "cell_type": "markdown",
   "metadata": {
    "id": "Flf1655VzatD"
   },
   "source": [
    "# Insight using visualizations"
   ]
  },
  {
   "cell_type": "code",
   "execution_count": 452,
   "metadata": {
    "colab": {
     "base_uri": "https://localhost:8080/",
     "height": 357
    },
    "id": "m0asBUM1zatE",
    "outputId": "5970ee7d-2837-41e5-dad6-4f3450d24800"
   },
   "outputs": [
    {
     "name": "stderr",
     "output_type": "stream",
     "text": [
      "/usr/local/lib/python3.7/dist-packages/seaborn/_decorators.py:43: FutureWarning: Pass the following variable as a keyword arg: x. From version 0.12, the only valid positional argument will be `data`, and passing other arguments without an explicit keyword will result in an error or misinterpretation.\n",
      "  FutureWarning\n"
     ]
    },
    {
     "data": {
      "text/plain": [
       "<matplotlib.axes._subplots.AxesSubplot at 0x7f08dbfc0c90>"
      ]
     },
     "execution_count": 452,
     "metadata": {
      "tags": []
     },
     "output_type": "execute_result"
    },
    {
     "data": {
      "image/png": "[encoded data removed]",
      "text/plain": [
       "<Figure size 432x288 with 1 Axes>"
      ]
     },
     "metadata": {
      "tags": []
     },
     "output_type": "display_data"
    }
   ],
   "source": [
    "#Salary distribution\n",
    "sns.countplot(data[\"salary\"])\n",
    "#Inferance: Employees with salary <=50 thousand comprises more when compared to employees with >50 thousand salary."
   ]
  },
  {
   "cell_type": "code",
   "execution_count": 453,
   "metadata": {
    "colab": {
     "base_uri": "https://localhost:8080/",
     "height": 450
    },
    "id": "VHcRlQEhzatF",
    "outputId": "9ededef2-a51d-4652-9f23-9247c91db4e5"
   },
   "outputs": [
    {
     "data": {
      "text/plain": [
       "<seaborn.axisgrid.FacetGrid at 0x7f08dbf39710>"
      ]
     },
     "execution_count": 453,
     "metadata": {
      "tags": []
     },
     "output_type": "execute_result"
    },
    {
     "data": {
      "image/png": "[encoded data removed]",
      "text/plain": [
       "<Figure size 720x360 with 1 Axes>"
      ]
     },
     "metadata": {
      "tags": []
     },
     "output_type": "display_data"
    }
   ],
   "source": [
    "#Education distribution\n",
    "sns.set(style=\"darkgrid\")\n",
    "graph=sns.catplot(x=\"education\",kind=\"count\",data=data,height=5,aspect=2)\n",
    "graph.set_xticklabels(rotation=45)\n",
    "#The above figure provides the information that HS-grade has maximum count of all other educations and  pre-school has the minimum ."
   ]
  },
  {
   "cell_type": "markdown",
   "metadata": {
    "id": "kZn51xURzatG"
   },
   "source": [
    "The above figure provides the information that HS-grade has maximum count of all other educations and  pre-school has\n",
    "the minimum ."
   ]
  },
  {
   "cell_type": "code",
   "execution_count": 454,
   "metadata": {
    "colab": {
     "base_uri": "https://localhost:8080/",
     "height": 468
    },
    "id": "Ln8ea6TnzatG",
    "outputId": "5079febd-504a-44c7-c900-ca11c7f2627e"
   },
   "outputs": [
    {
     "data": {
      "text/plain": [
       "<seaborn.axisgrid.FacetGrid at 0x7f08dbee39d0>"
      ]
     },
     "execution_count": 454,
     "metadata": {
      "tags": []
     },
     "output_type": "execute_result"
    },
    {
     "data": {
      "image/png": "[encoded data removed]",
      "text/plain": [
       "<Figure size 720x360 with 1 Axes>"
      ]
     },
     "metadata": {
      "tags": []
     },
     "output_type": "display_data"
    }
   ],
   "source": [
    "#Occupation distribution\n",
    "sns.set(style=\"darkgrid\")\n",
    "graph=sns.catplot(x=\"occupation\",kind=\"count\",data=data,height=5,aspect=2)\n",
    "graph.set_xticklabels(rotation=45)\n",
    "#Inference obtained is Prof-speciality scores more in count than other occupations and armed-forces is the least amoung them."
   ]
  },
  {
   "cell_type": "markdown",
   "metadata": {
    "id": "nYyk-X-lzatH"
   },
   "source": [
    "Inference obtained is Prof-speciality scores more in count than other occupations and armed-forces is the least amoung them."
   ]
  },
  {
   "cell_type": "code",
   "execution_count": 455,
   "metadata": {
    "colab": {
     "base_uri": "https://localhost:8080/",
     "height": 462
    },
    "id": "BWDSG-S1zatH",
    "outputId": "b9f5b1a3-fdea-44d9-e54a-0b318b8f3972"
   },
   "outputs": [
    {
     "data": {
      "text/plain": [
       "<seaborn.axisgrid.FacetGrid at 0x7f08dbdfe6d0>"
      ]
     },
     "execution_count": 455,
     "metadata": {
      "tags": []
     },
     "output_type": "execute_result"
    },
    {
     "data": {
      "image/png": "[encoded data removed]",
      "text/plain": [
       "<Figure size 720x360 with 1 Axes>"
      ]
     },
     "metadata": {
      "tags": []
     },
     "output_type": "display_data"
    }
   ],
   "source": [
    "#Workclass distribution \n",
    "sns.set(style=\"darkgrid\")\n",
    "graph=sns.catplot(x=\"workclass\",kind=\"count\",data=data,height=5,aspect=2)\n",
    "graph.set_xticklabels(rotation=45)\n",
    "#Most of the employees belongs to Private workclass and the least amoung them are without pay and never worked."
   ]
  },
  {
   "cell_type": "markdown",
   "metadata": {
    "id": "eO4jfJGWzatI"
   },
   "source": [
    "Most of the employees belongs to Private workclass and the least amoung them are without pay and never worked."
   ]
  },
  {
   "cell_type": "code",
   "execution_count": 456,
   "metadata": {
    "colab": {
     "base_uri": "https://localhost:8080/",
     "height": 486
    },
    "id": "Ibs4wbSQzatI",
    "outputId": "9e698059-e637-4771-c920-682412bc612c"
   },
   "outputs": [
    {
     "data": {
      "text/plain": [
       "<seaborn.axisgrid.FacetGrid at 0x7f08dbe156d0>"
      ]
     },
     "execution_count": 456,
     "metadata": {
      "tags": []
     },
     "output_type": "execute_result"
    },
    {
     "data": {
      "image/png": "[encoded data removed]",
      "text/plain": [
       "<Figure size 720x360 with 1 Axes>"
      ]
     },
     "metadata": {
      "tags": []
     },
     "output_type": "display_data"
    }
   ],
   "source": [
    "#Marital-status distribution\n",
    "sns.set(style=\"darkgrid\")\n",
    "graph=sns.catplot(x=\"marital-status\",kind=\"count\",data=data,height=5,aspect=2)\n",
    "graph.set_xticklabels(rotation=45)\n",
    "#Married-civ-spounse is the lead in count and married=af-spounce, the least in count."
   ]
  },
  {
   "cell_type": "markdown",
   "metadata": {
    "id": "HaJDt7cXzatJ"
   },
   "source": [
    "Married-civ-spounse is the lead in count and married=af-spounce, the least in count."
   ]
  },
  {
   "cell_type": "code",
   "execution_count": 457,
   "metadata": {
    "colab": {
     "base_uri": "https://localhost:8080/",
     "height": 451
    },
    "id": "w0cS5NRNzatJ",
    "outputId": "a1f51e3a-0f1f-4e03-d553-b21b68501e53"
   },
   "outputs": [
    {
     "data": {
      "text/plain": [
       "<seaborn.axisgrid.FacetGrid at 0x7f08dbd17190>"
      ]
     },
     "execution_count": 457,
     "metadata": {
      "tags": []
     },
     "output_type": "execute_result"
    },
    {
     "data": {
      "image/png": "[encoded data removed]",
      "text/plain": [
       "<Figure size 720x360 with 1 Axes>"
      ]
     },
     "metadata": {
      "tags": []
     },
     "output_type": "display_data"
    }
   ],
   "source": [
    "#Relationship distribution\n",
    "sns.set(style=\"darkgrid\")\n",
    "graph=sns.catplot(x=\"relationship\",kind=\"count\",data=data,height=5,aspect=2)\n",
    "graph.set_xticklabels(rotation=45)\n",
    "#In relationship attribute distribution, husband is maximum and other relative is minimum."
   ]
  },
  {
   "cell_type": "markdown",
   "metadata": {
    "id": "QCV16yNZzatK"
   },
   "source": [
    "In relationship attribute distribution, husband is maximum and other relative is minimum."
   ]
  },
  {
   "cell_type": "code",
   "execution_count": 458,
   "metadata": {
    "colab": {
     "base_uri": "https://localhost:8080/",
     "height": 402
    },
    "id": "CGXeYbaZzatK",
    "outputId": "59fc7cf5-2ddb-4f4d-9cb4-ba3fa040a035"
   },
   "outputs": [
    {
     "data": {
      "text/plain": [
       "<seaborn.axisgrid.FacetGrid at 0x7f08dbc7d290>"
      ]
     },
     "execution_count": 458,
     "metadata": {
      "tags": []
     },
     "output_type": "execute_result"
    },
    {
     "data": {
      "image/png": "[encoded data removed]",
      "text/plain": [
       "<Figure size 576x288 with 1 Axes>"
      ]
     },
     "metadata": {
      "tags": []
     },
     "output_type": "display_data"
    }
   ],
   "source": [
    "#Race distribution\n",
    "sns.set(style=\"darkgrid\")\n",
    "graph=sns.catplot(x=\"race\",kind=\"count\",data=data,height=4,aspect=2)\n",
    "graph.set_xticklabels(rotation=45)\n",
    "#Here,white people are large in number and other categories are least in number."
   ]
  },
  {
   "cell_type": "code",
   "execution_count": 459,
   "metadata": {
    "colab": {
     "base_uri": "https://localhost:8080/"
    },
    "id": "c0eyMmkUzatL",
    "outputId": "9a60562f-c16c-4742-eb1f-85a632ace198"
   },
   "outputs": [
    {
     "data": {
      "text/plain": [
       "White                 19198\n",
       "Black                  2340\n",
       "Asian-Pac-Islander      725\n",
       "Amer-Indian-Eskimo      217\n",
       "Other                   169\n",
       "Name: race, dtype: int64"
      ]
     },
     "execution_count": 459,
     "metadata": {
      "tags": []
     },
     "output_type": "execute_result"
    }
   ],
   "source": [
    "data['race'].value_counts()"
   ]
  },
  {
   "cell_type": "markdown",
   "metadata": {
    "id": "1BfGjX3lzatL"
   },
   "source": [
    "Here,white people are large in number and other categories are least in number."
   ]
  },
  {
   "cell_type": "code",
   "execution_count": 460,
   "metadata": {
    "colab": {
     "base_uri": "https://localhost:8080/",
     "height": 0
    },
    "id": "YfqVcIUyzatL",
    "outputId": "0cdcba71-7cbe-4b7e-f627-5e35812cc22b"
   },
   "outputs": [
    {
     "data": {
      "text/plain": [
       "<seaborn.axisgrid.FacetGrid at 0x7f08dbbeec90>"
      ]
     },
     "execution_count": 460,
     "metadata": {
      "tags": []
     },
     "output_type": "execute_result"
    },
    {
     "data": {
      "image/png": "[encoded data removed]",
      "text/plain": [
       "<Figure size 1152x288 with 2 Axes>"
      ]
     },
     "metadata": {
      "tags": []
     },
     "output_type": "display_data"
    }
   ],
   "source": [
    "#salary distribution among diffrent occupation\n",
    "sns.set(style=\"darkgrid\")\n",
    "graph=sns.catplot(x=\"occupation\",kind=\"count\",data=data,col=\"salary\",col_wrap=2,height=4,aspect=2)\n",
    "graph.set_xticklabels(rotation=90)\n",
    "#Amoung employees with salary <=50k, prof-speciality is the occupation that is leading and armed forces is the one that is backing.\n",
    "#Amoung employes with >50k salary, prof-seciality leads whereas armed forces and private-income-sev is the least."
   ]
  },
  {
   "cell_type": "markdown",
   "metadata": {
    "id": "hQxnd90ozatM"
   },
   "source": [
    "Amoung employees with salary <=50k, prof-speciality is the occupation that is leading and armed forces is the one that is \n",
    "backing. Amoung employes with >50k salary, prof-seciality leads whereas armed forces and private-income-sev is the least."
   ]
  },
  {
   "cell_type": "code",
   "execution_count": 461,
   "metadata": {
    "colab": {
     "base_uri": "https://localhost:8080/",
     "height": 0
    },
    "id": "xIZl5PzczatM",
    "outputId": "d363c033-0493-48dd-e269-7d3e24033ee4"
   },
   "outputs": [
    {
     "data": {
      "text/plain": [
       "<seaborn.axisgrid.FacetGrid at 0x7f08dbc8ae90>"
      ]
     },
     "execution_count": 461,
     "metadata": {
      "tags": []
     },
     "output_type": "execute_result"
    },
    {
     "data": {
      "image/png": "[encoded data removed]",
      "text/plain": [
       "<Figure size 439.1x360 with 1 Axes>"
      ]
     },
     "metadata": {
      "tags": []
     },
     "output_type": "display_data"
    }
   ],
   "source": [
    "#Salary distribution based on gender\n",
    "sns.catplot(data=data, kind=\"bar\",x=\"sex\", y=\"age\", hue=\"salary\", palette=\"bright\")\n",
    "#Amoung male employees those with salary >50k in between an age interval of 40-45 comprises more than those with <=50k salary of \n",
    "#age between 35-40.\n",
    "#Amoung females, those with salary >50k in between an age interval of 40-43 comprises more than those with <=50k salary of\n",
    "#age between 35-40."
   ]
  },
  {
   "cell_type": "markdown",
   "metadata": {
    "id": "JZHfLn5SzatN"
   },
   "source": [
    "Amoung male employees those with salary >50k in between an age interval of 40-45 comprises more than those with <=50k salary of\n",
    "age between 35-40.\n",
    "Amoung females, those with salary >50k in between an age interval of 40-43 comprises more than those with <=50k salary of\n",
    "age between 35-40."
   ]
  },
  {
   "cell_type": "code",
   "execution_count": 462,
   "metadata": {
    "colab": {
     "base_uri": "https://localhost:8080/",
     "height": 0
    },
    "id": "lMCowh9zzatN",
    "outputId": "2f3f3e44-8328-434e-f22f-92d5140ed2de"
   },
   "outputs": [
    {
     "data": {
      "text/plain": [
       "<seaborn.axisgrid.FacetGrid at 0x7f08dbb94d10>"
      ]
     },
     "execution_count": 462,
     "metadata": {
      "tags": []
     },
     "output_type": "execute_result"
    },
    {
     "data": {
      "image/png": "[encoded data removed]",
      "text/plain": [
       "<Figure size 655.1x288 with 1 Axes>"
      ]
     },
     "metadata": {
      "tags": []
     },
     "output_type": "display_data"
    }
   ],
   "source": [
    "sns.catplot(data=data, kind=\"bar\",x=\"race\", y=\"age\", hue=\"salary\", palette=\"bright\",height=4,aspect=2)"
   ]
  },
  {
   "cell_type": "code",
   "execution_count": 463,
   "metadata": {
    "colab": {
     "base_uri": "https://localhost:8080/",
     "height": 0
    },
    "id": "2BZ0Jvi9zatP",
    "outputId": "3dd37fd7-ca66-4684-94de-a00998606d63"
   },
   "outputs": [
    {
     "data": {
      "image/png": "[encoded data removed]",
      "text/plain": [
       "<Figure size 576x432 with 1 Axes>"
      ]
     },
     "metadata": {
      "tags": []
     },
     "output_type": "display_data"
    }
   ],
   "source": [
    "plt.figure(figsize=(8,6))\n",
    "sns.scatterplot(x=\"age\",y='education',data=data, hue='sex') \n",
    "plt.show()"
   ]
  },
  {
   "cell_type": "code",
   "execution_count": 464,
   "metadata": {
    "colab": {
     "base_uri": "https://localhost:8080/"
    },
    "id": "YMOdbUY0zatQ",
    "outputId": "ded22e32-97a4-4612-95d3-16836e477d4d"
   },
   "outputs": [
    {
     "data": {
      "text/plain": [
       "Index(['age', 'workclass', 'education', 'education-num', 'marital-status',\n",
       "       'occupation', 'relationship', 'race', 'sex', 'capital-gain',\n",
       "       'capital-loss', 'hours-per-week', 'native-country', 'salary'],\n",
       "      dtype='object')"
      ]
     },
     "execution_count": 464,
     "metadata": {
      "tags": []
     },
     "output_type": "execute_result"
    }
   ],
   "source": [
    "data.columns"
   ]
  },
  {
   "cell_type": "code",
   "execution_count": 465,
   "metadata": {
    "id": "BJp8CtaUzatR"
   },
   "outputs": [],
   "source": [
    "#data.duplicated().sum()"
   ]
  },
  {
   "cell_type": "code",
   "execution_count": 466,
   "metadata": {
    "id": "yS5ofVKbzatS"
   },
   "outputs": [],
   "source": [
    "#data=data.drop_duplicates()"
   ]
  },
  {
   "cell_type": "code",
   "execution_count": 467,
   "metadata": {
    "colab": {
     "base_uri": "https://localhost:8080/"
    },
    "id": "9eSYVbE6zatT",
    "outputId": "eda2390a-ff9d-4971-f527-844bf8300c54"
   },
   "outputs": [
    {
     "data": {
      "text/plain": [
       "(22649, 14)"
      ]
     },
     "execution_count": 467,
     "metadata": {
      "tags": []
     },
     "output_type": "execute_result"
    }
   ],
   "source": [
    "data.shape"
   ]
  },
  {
   "cell_type": "markdown",
   "metadata": {
    "id": "uccYwDMBzatU"
   },
   "source": [
    "# Encoding"
   ]
  },
  {
   "cell_type": "code",
   "execution_count": 468,
   "metadata": {
    "colab": {
     "base_uri": "https://localhost:8080/"
    },
    "id": "gnrAvMOFzatV",
    "outputId": "3240042a-fe2d-4f25-b57d-50ede24b7f64"
   },
   "outputs": [
    {
     "name": "stdout",
     "output_type": "stream",
     "text": [
      "age\n",
      "62\n",
      "workclass\n",
      "8\n",
      "education\n",
      "12\n",
      "education-num\n",
      "12\n",
      "marital-status\n",
      "7\n",
      "occupation\n",
      "14\n",
      "relationship\n",
      "6\n",
      "race\n",
      "5\n",
      "sex\n",
      "2\n",
      "capital-gain\n",
      "104\n",
      "capital-loss\n",
      "82\n",
      "hours-per-week\n",
      "20\n",
      "native-country\n",
      "41\n",
      "salary\n",
      "2\n"
     ]
    }
   ],
   "source": [
    "for i in data.columns:\n",
    "    print(i)\n",
    "    print(data[i].nunique())"
   ]
  },
  {
   "cell_type": "code",
   "execution_count": 469,
   "metadata": {
    "id": "mQVlbF2TAZPC"
   },
   "outputs": [],
   "source": [
    "#Dropping unnecessary columns\n",
    "data=data.drop(['education'],axis=1)\n"
   ]
  },
  {
   "cell_type": "code",
   "execution_count": 470,
   "metadata": {
    "id": "4WCgNL3QzatV"
   },
   "outputs": [],
   "source": [
    "#Label encoding\n",
    "from sklearn import preprocessing\n",
    "label_encoder = preprocessing.LabelEncoder()\n",
    "for i in ['workclass', 'marital-status','occupation', 'relationship', 'race','native-country', 'salary']:\n",
    "    data[i] = label_encoder.fit_transform(data[i])"
   ]
  },
  {
   "cell_type": "code",
   "execution_count": 471,
   "metadata": {
    "id": "ygNiLPMQAeJx"
   },
   "outputs": [],
   "source": [
    "data=pd.get_dummies(data)"
   ]
  },
  {
   "cell_type": "code",
   "execution_count": 472,
   "metadata": {
    "colab": {
     "base_uri": "https://localhost:8080/",
     "height": 0
    },
    "id": "8sltG7fmzatW",
    "outputId": "b116055d-ecb1-4723-83a0-a6f126f3c48e",
    "scrolled": true
   },
   "outputs": [
    {
     "data": {
      "text/html": [
       "<div>\n",
       "<style scoped>\n",
       "    .dataframe tbody tr th:only-of-type {\n",
       "        vertical-align: middle;\n",
       "    }\n",
       "\n",
       "    .dataframe tbody tr th {\n",
       "        vertical-align: top;\n",
       "    }\n",
       "\n",
       "    .dataframe thead th {\n",
       "        text-align: right;\n",
       "    }\n",
       "</style>\n",
       "<table border=\"1\" class=\"dataframe\">\n",
       "  <thead>\n",
       "    <tr style=\"text-align: right;\">\n",
       "      <th></th>\n",
       "      <th>age</th>\n",
       "      <th>workclass</th>\n",
       "      <th>education-num</th>\n",
       "      <th>marital-status</th>\n",
       "      <th>occupation</th>\n",
       "      <th>relationship</th>\n",
       "      <th>race</th>\n",
       "      <th>capital-gain</th>\n",
       "      <th>capital-loss</th>\n",
       "      <th>hours-per-week</th>\n",
       "      <th>native-country</th>\n",
       "      <th>salary</th>\n",
       "      <th>sex_Female</th>\n",
       "      <th>sex_Male</th>\n",
       "    </tr>\n",
       "  </thead>\n",
       "  <tbody>\n",
       "    <tr>\n",
       "      <th>0</th>\n",
       "      <td>39</td>\n",
       "      <td>6</td>\n",
       "      <td>13</td>\n",
       "      <td>4</td>\n",
       "      <td>0</td>\n",
       "      <td>1</td>\n",
       "      <td>4</td>\n",
       "      <td>2174</td>\n",
       "      <td>0</td>\n",
       "      <td>40</td>\n",
       "      <td>38</td>\n",
       "      <td>0</td>\n",
       "      <td>0</td>\n",
       "      <td>1</td>\n",
       "    </tr>\n",
       "    <tr>\n",
       "      <th>2</th>\n",
       "      <td>38</td>\n",
       "      <td>3</td>\n",
       "      <td>9</td>\n",
       "      <td>0</td>\n",
       "      <td>5</td>\n",
       "      <td>1</td>\n",
       "      <td>4</td>\n",
       "      <td>0</td>\n",
       "      <td>0</td>\n",
       "      <td>40</td>\n",
       "      <td>38</td>\n",
       "      <td>0</td>\n",
       "      <td>0</td>\n",
       "      <td>1</td>\n",
       "    </tr>\n",
       "    <tr>\n",
       "      <th>3</th>\n",
       "      <td>53</td>\n",
       "      <td>3</td>\n",
       "      <td>7</td>\n",
       "      <td>2</td>\n",
       "      <td>5</td>\n",
       "      <td>0</td>\n",
       "      <td>2</td>\n",
       "      <td>0</td>\n",
       "      <td>0</td>\n",
       "      <td>40</td>\n",
       "      <td>38</td>\n",
       "      <td>0</td>\n",
       "      <td>0</td>\n",
       "      <td>1</td>\n",
       "    </tr>\n",
       "    <tr>\n",
       "      <th>4</th>\n",
       "      <td>28</td>\n",
       "      <td>3</td>\n",
       "      <td>13</td>\n",
       "      <td>2</td>\n",
       "      <td>9</td>\n",
       "      <td>5</td>\n",
       "      <td>2</td>\n",
       "      <td>0</td>\n",
       "      <td>0</td>\n",
       "      <td>40</td>\n",
       "      <td>4</td>\n",
       "      <td>0</td>\n",
       "      <td>1</td>\n",
       "      <td>0</td>\n",
       "    </tr>\n",
       "    <tr>\n",
       "      <th>5</th>\n",
       "      <td>37</td>\n",
       "      <td>3</td>\n",
       "      <td>14</td>\n",
       "      <td>2</td>\n",
       "      <td>3</td>\n",
       "      <td>5</td>\n",
       "      <td>4</td>\n",
       "      <td>0</td>\n",
       "      <td>0</td>\n",
       "      <td>40</td>\n",
       "      <td>38</td>\n",
       "      <td>0</td>\n",
       "      <td>1</td>\n",
       "      <td>0</td>\n",
       "    </tr>\n",
       "  </tbody>\n",
       "</table>\n",
       "</div>"
      ],
      "text/plain": [
       "   age  workclass  education-num  ...  salary  sex_Female  sex_Male\n",
       "0   39          6             13  ...       0           0         1\n",
       "2   38          3              9  ...       0           0         1\n",
       "3   53          3              7  ...       0           0         1\n",
       "4   28          3             13  ...       0           1         0\n",
       "5   37          3             14  ...       0           1         0\n",
       "\n",
       "[5 rows x 14 columns]"
      ]
     },
     "execution_count": 472,
     "metadata": {
      "tags": []
     },
     "output_type": "execute_result"
    }
   ],
   "source": [
    "data.head()"
   ]
  },
  {
   "cell_type": "code",
   "execution_count": 473,
   "metadata": {
    "colab": {
     "base_uri": "https://localhost:8080/"
    },
    "id": "vaJ7XLd5zatW",
    "outputId": "6d74e36f-37af-4af3-e3c9-e0ed6a93adb5"
   },
   "outputs": [
    {
     "data": {
      "text/plain": [
       "Index(['age', 'workclass', 'education-num', 'marital-status', 'occupation',\n",
       "       'relationship', 'race', 'capital-gain', 'capital-loss',\n",
       "       'hours-per-week', 'native-country', 'salary', 'sex_Female', 'sex_Male'],\n",
       "      dtype='object')"
      ]
     },
     "execution_count": 473,
     "metadata": {
      "tags": []
     },
     "output_type": "execute_result"
    }
   ],
   "source": [
    "data.columns"
   ]
  },
  {
   "cell_type": "code",
   "execution_count": 474,
   "metadata": {
    "colab": {
     "base_uri": "https://localhost:8080/"
    },
    "id": "slxBqZkezatX",
    "outputId": "d6bee111-1a0a-4eb5-c370-787957c69fe8"
   },
   "outputs": [
    {
     "data": {
      "text/plain": [
       "age               int64\n",
       "workclass         int64\n",
       "education-num     int64\n",
       "marital-status    int64\n",
       "occupation        int64\n",
       "relationship      int64\n",
       "race              int64\n",
       "capital-gain      int64\n",
       "capital-loss      int64\n",
       "hours-per-week    int64\n",
       "native-country    int64\n",
       "salary            int64\n",
       "sex_Female        uint8\n",
       "sex_Male          uint8\n",
       "dtype: object"
      ]
     },
     "execution_count": 474,
     "metadata": {
      "tags": []
     },
     "output_type": "execute_result"
    }
   ],
   "source": [
    "data.dtypes"
   ]
  },
  {
   "cell_type": "code",
   "execution_count": 475,
   "metadata": {
    "colab": {
     "base_uri": "https://localhost:8080/",
     "height": 0
    },
    "id": "j_FTCLjGzatY",
    "outputId": "93dee8e2-c0ef-4cee-f576-33df54cef9c6"
   },
   "outputs": [
    {
     "data": {
      "text/plain": [
       "<matplotlib.axes._subplots.AxesSubplot at 0x7f08dc2c9f10>"
      ]
     },
     "execution_count": 475,
     "metadata": {
      "tags": []
     },
     "output_type": "execute_result"
    },
    {
     "data": {
      "image/png": "[encoded data removed]",
      "text/plain": [
       "<Figure size 1008x360 with 2 Axes>"
      ]
     },
     "metadata": {
      "tags": []
     },
     "output_type": "display_data"
    }
   ],
   "source": [
    "plt.figure(figsize=(14,5))\n",
    "sns.heatmap(data.corr(),vmin=0.1,vmax=0.9,annot=True, cmap='YlGnBu')"
   ]
  },
  {
   "cell_type": "markdown",
   "metadata": {
    "id": "O7WMm_aizatY"
   },
   "source": [
    "# Splitting"
   ]
  },
  {
   "cell_type": "code",
   "execution_count": 476,
   "metadata": {
    "id": "P2U7zTB2zatY"
   },
   "outputs": [],
   "source": [
    "X=data.drop(['salary'],axis=1)\n",
    "y=pd.DataFrame(data['salary'])"
   ]
  },
  {
   "cell_type": "code",
   "execution_count": 477,
   "metadata": {
    "id": "y1ZMCX-4zatZ"
   },
   "outputs": [],
   "source": [
    "from sklearn.model_selection import train_test_split\n",
    "X_train,X_test,y_train,y_test=train_test_split(X,y,random_state=42,test_size=0.20)"
   ]
  },
  {
   "cell_type": "code",
   "execution_count": 478,
   "metadata": {
    "id": "DDAkyta6zatZ"
   },
   "outputs": [],
   "source": [
    "#standard scaling\n",
    "from sklearn.preprocessing import StandardScaler\n",
    "scalar=StandardScaler()\n",
    "X_train=scalar.fit_transform(X_train)\n",
    "X_test=scalar.fit_transform(X_test)"
   ]
  },
  {
   "cell_type": "markdown",
   "metadata": {
    "id": "b6hgabxHzatZ"
   },
   "source": [
    "# Logistic Regression"
   ]
  },
  {
   "cell_type": "code",
   "execution_count": 479,
   "metadata": {
    "id": "-cKv8yJRzata"
   },
   "outputs": [],
   "source": [
    "from sklearn.metrics import confusion_matrix,accuracy_score,precision_score,recall_score,f1_score"
   ]
  },
  {
   "cell_type": "code",
   "execution_count": 480,
   "metadata": {
    "id": "XluvJk3Kzata"
   },
   "outputs": [],
   "source": [
    "from sklearn.linear_model import LogisticRegression\n",
    "logit_model=LogisticRegression()\n",
    "logit_model.fit(X_train,y_train.values.ravel())\n",
    "y_pred=logit_model.predict(X_test)"
   ]
  },
  {
   "cell_type": "code",
   "execution_count": 481,
   "metadata": {
    "colab": {
     "base_uri": "https://localhost:8080/"
    },
    "id": "Nl866q6Mzata",
    "outputId": "ab7b99da-8872-457f-b22e-f72fb79d6098"
   },
   "outputs": [
    {
     "name": "stdout",
     "output_type": "stream",
     "text": [
      "Accuracy is  0.8108167770419427\n",
      "              precision    recall  f1-score   support\n",
      "\n",
      "           0       0.83      0.94      0.88      3300\n",
      "           1       0.74      0.47      0.57      1230\n",
      "\n",
      "    accuracy                           0.81      4530\n",
      "   macro avg       0.78      0.70      0.73      4530\n",
      "weighted avg       0.80      0.81      0.80      4530\n",
      "\n"
     ]
    },
    {
     "data": {
      "text/plain": [
       "array([[3094,  206],\n",
       "       [ 651,  579]])"
      ]
     },
     "execution_count": 481,
     "metadata": {
      "tags": []
     },
     "output_type": "execute_result"
    }
   ],
   "source": [
    "from sklearn.metrics import classification_report\n",
    "print('Accuracy is ',accuracy_score(y_test,y_pred))\n",
    "print(classification_report(y_test, y_pred))\n",
    "cm=confusion_matrix(y_test,y_pred)\n",
    "cm"
   ]
  },
  {
   "cell_type": "code",
   "execution_count": 482,
   "metadata": {
    "colab": {
     "base_uri": "https://localhost:8080/",
     "height": 0
    },
    "id": "3GV-wT3mzatb",
    "outputId": "2be7e58b-a66b-4faa-ea29-c2c3b6b73b5e"
   },
   "outputs": [
    {
     "data": {
      "image/png": "[encoded data removed]",
      "text/plain": [
       "<Figure size 432x288 with 2 Axes>"
      ]
     },
     "metadata": {
      "tags": []
     },
     "output_type": "display_data"
    },
    {
     "data": {
      "text/plain": [
       "<Figure size 1080x576 with 0 Axes>"
      ]
     },
     "metadata": {
      "tags": []
     },
     "output_type": "display_data"
    }
   ],
   "source": [
    "ax= plt.subplot()\n",
    "plt.figure(figsize=(15,8))\n",
    "sns.heatmap(confusion_matrix(y_test, y_pred), annot=True, ax = ax, cmap = \"YlGnBu\")\n",
    "\n",
    "# labels, title and ticks\n",
    "ax.set_xlabel(\"Predicted\")\n",
    "ax.set_ylabel(\"Actual\")\n",
    "ax.set_title(\"Confusion Matrix\") \n",
    "ax.xaxis.set_ticklabels([\"<=50\", \">50\"])\n",
    "plt.show()"
   ]
  },
  {
   "cell_type": "markdown",
   "metadata": {
    "id": "Vh-3g0rxzatb"
   },
   "source": [
    "# KNN"
   ]
  },
  {
   "cell_type": "code",
   "execution_count": 483,
   "metadata": {
    "id": "etc9cGL2zatc"
   },
   "outputs": [],
   "source": [
    "from sklearn.neighbors import KNeighborsClassifier\n",
    "acc_values=[]\n",
    "neighbors=np.arange(3,15)\n",
    "for k in neighbors:\n",
    "    classifier=KNeighborsClassifier(n_neighbors=k,metric='minkowski')\n",
    "    classifier.fit(X_train,y_train.values.ravel())\n",
    "    y_pred=classifier.predict(X_test)\n",
    "    acc=accuracy_score(y_test,y_pred)\n",
    "    acc_values.append(acc)"
   ]
  },
  {
   "cell_type": "code",
   "execution_count": 484,
   "metadata": {
    "colab": {
     "base_uri": "https://localhost:8080/"
    },
    "id": "dEOtFZxBzatc",
    "outputId": "06ca3874-5d90-4ec7-aefb-d7c0bf7a75f0"
   },
   "outputs": [
    {
     "data": {
      "text/plain": [
       "[0.804635761589404,\n",
       " 0.8161147902869758,\n",
       " 0.819205298013245,\n",
       " 0.8196467991169978,\n",
       " 0.8196467991169978,\n",
       " 0.8233995584988962,\n",
       " 0.8264900662251655,\n",
       " 0.8300220750551877,\n",
       " 0.8317880794701987,\n",
       " 0.8335540838852097,\n",
       " 0.8300220750551877,\n",
       " 0.8304635761589404]"
      ]
     },
     "execution_count": 484,
     "metadata": {
      "tags": []
     },
     "output_type": "execute_result"
    }
   ],
   "source": [
    "acc_values"
   ]
  },
  {
   "cell_type": "code",
   "execution_count": 485,
   "metadata": {
    "colab": {
     "base_uri": "https://localhost:8080/",
     "height": 0
    },
    "id": "hHBZV9Sxzatc",
    "outputId": "5d8d840b-10c0-4cfb-a26a-0385d813841e"
   },
   "outputs": [
    {
     "data": {
      "image/png": "[encoded data removed]",
      "text/plain": [
       "<Figure size 432x288 with 1 Axes>"
      ]
     },
     "metadata": {
      "tags": []
     },
     "output_type": "display_data"
    }
   ],
   "source": [
    "plt.plot(neighbors,acc_values,'o-')\n",
    "plt.xlabel('k values')\n",
    "plt.ylabel('accuracy')\n",
    "plt.grid()         "
   ]
  },
  {
   "cell_type": "code",
   "execution_count": 486,
   "metadata": {
    "id": "1hL-NT0Xzatd"
   },
   "outputs": [],
   "source": [
    "classifier=KNeighborsClassifier(n_neighbors=12,metric='minkowski')\n",
    "classifier.fit(X_train,y_train.values.ravel())\n",
    "y_pred=classifier.predict(X_test)"
   ]
  },
  {
   "cell_type": "code",
   "execution_count": 487,
   "metadata": {
    "colab": {
     "base_uri": "https://localhost:8080/"
    },
    "id": "J2QktSyRzatd",
    "outputId": "35c6d6ea-eeba-4803-94e0-8fd2340e6dff"
   },
   "outputs": [
    {
     "name": "stdout",
     "output_type": "stream",
     "text": [
      "Accuracy is  0.8335540838852097\n",
      "              precision    recall  f1-score   support\n",
      "\n",
      "           0       0.85      0.93      0.89      3300\n",
      "           1       0.75      0.57      0.65      1230\n",
      "\n",
      "    accuracy                           0.83      4530\n",
      "   macro avg       0.80      0.75      0.77      4530\n",
      "weighted avg       0.83      0.83      0.83      4530\n",
      "\n"
     ]
    },
    {
     "data": {
      "text/plain": [
       "array([[3071,  229],\n",
       "       [ 525,  705]])"
      ]
     },
     "execution_count": 487,
     "metadata": {
      "tags": []
     },
     "output_type": "execute_result"
    }
   ],
   "source": [
    "print('Accuracy is ',accuracy_score(y_test,y_pred))\n",
    "print(classification_report(y_test, y_pred))\n",
    "cm=confusion_matrix(y_test,y_pred)\n",
    "cm"
   ]
  },
  {
   "cell_type": "code",
   "execution_count": 488,
   "metadata": {
    "colab": {
     "base_uri": "https://localhost:8080/",
     "height": 0
    },
    "id": "w5yLAKA6zate",
    "outputId": "f384f6c0-a26a-4a67-bc65-1fa245699a6a"
   },
   "outputs": [
    {
     "data": {
      "image/png": "[encoded data removed]",
      "text/plain": [
       "<Figure size 432x288 with 2 Axes>"
      ]
     },
     "metadata": {
      "tags": []
     },
     "output_type": "display_data"
    },
    {
     "data": {
      "text/plain": [
       "<Figure size 1080x576 with 0 Axes>"
      ]
     },
     "metadata": {
      "tags": []
     },
     "output_type": "display_data"
    }
   ],
   "source": [
    "ax= plt.subplot()\n",
    "plt.figure(figsize=(15,8))\n",
    "sns.heatmap(confusion_matrix(y_test, y_pred), annot=True, ax = ax, cmap = \"YlGnBu\")\n",
    "\n",
    "# labels, title and ticks\n",
    "ax.set_xlabel(\"Predicted\")\n",
    "ax.set_ylabel(\"Actual\")\n",
    "ax.set_title(\"Confusion Matrix\") \n",
    "ax.xaxis.set_ticklabels([\"<=50\", \">50\"])\n",
    "plt.show()"
   ]
  },
  {
   "cell_type": "markdown",
   "metadata": {
    "id": "9AVdlOkFzate"
   },
   "source": [
    "# Decision Tree"
   ]
  },
  {
   "cell_type": "code",
   "execution_count": 489,
   "metadata": {
    "id": "hRRlICixzatf"
   },
   "outputs": [],
   "source": [
    "from sklearn.tree import DecisionTreeClassifier\n",
    "dt_model=DecisionTreeClassifier()\n",
    "dt_model.fit(X_train,y_train.values.ravel())\n",
    "y_pred=dt_model.predict(X_test)"
   ]
  },
  {
   "cell_type": "code",
   "execution_count": 490,
   "metadata": {
    "colab": {
     "base_uri": "https://localhost:8080/"
    },
    "id": "CpTkQrMozatg",
    "outputId": "f3ca92b3-8998-48ec-9fc4-a0ca33ee058a"
   },
   "outputs": [
    {
     "name": "stdout",
     "output_type": "stream",
     "text": [
      "Accuracy is  0.7947019867549668\n",
      "              precision    recall  f1-score   support\n",
      "\n",
      "           0       0.86      0.86      0.86      3300\n",
      "           1       0.62      0.62      0.62      1230\n",
      "\n",
      "    accuracy                           0.79      4530\n",
      "   macro avg       0.74      0.74      0.74      4530\n",
      "weighted avg       0.79      0.79      0.79      4530\n",
      "\n"
     ]
    },
    {
     "data": {
      "text/plain": [
       "array([[2843,  457],\n",
       "       [ 473,  757]])"
      ]
     },
     "execution_count": 490,
     "metadata": {
      "tags": []
     },
     "output_type": "execute_result"
    }
   ],
   "source": [
    "print('Accuracy is ',accuracy_score(y_test,y_pred))\n",
    "print(classification_report(y_test, y_pred))\n",
    "cm=confusion_matrix(y_test,y_pred)\n",
    "cm"
   ]
  },
  {
   "cell_type": "code",
   "execution_count": 491,
   "metadata": {
    "colab": {
     "base_uri": "https://localhost:8080/",
     "height": 0
    },
    "id": "ap1jEFr_zath",
    "outputId": "19de3695-8a8f-45e1-dca2-8d70e137917a"
   },
   "outputs": [
    {
     "data": {
      "image/png": "[encoded data removed]",
      "text/plain": [
       "<Figure size 432x288 with 2 Axes>"
      ]
     },
     "metadata": {
      "tags": []
     },
     "output_type": "display_data"
    },
    {
     "data": {
      "text/plain": [
       "<Figure size 1080x576 with 0 Axes>"
      ]
     },
     "metadata": {
      "tags": []
     },
     "output_type": "display_data"
    }
   ],
   "source": [
    "ax= plt.subplot()\n",
    "plt.figure(figsize=(15,8))\n",
    "sns.heatmap(confusion_matrix(y_test, y_pred), annot=True, ax = ax, cmap = \"YlGnBu\")\n",
    "\n",
    "# labels, title and ticks\n",
    "ax.set_xlabel(\"Predicted\")\n",
    "ax.set_ylabel(\"Actual\")\n",
    "ax.set_title(\"Confusion Matrix\") \n",
    "ax.xaxis.set_ticklabels([\"<=50\", \">50\"])\n",
    "plt.show()"
   ]
  },
  {
   "cell_type": "markdown",
   "metadata": {
    "id": "XAtE4YfDzath"
   },
   "source": [
    "# SVM"
   ]
  },
  {
   "cell_type": "code",
   "execution_count": 492,
   "metadata": {
    "id": "StJNnwySzati"
   },
   "outputs": [],
   "source": [
    "#linear classifier\n",
    "from sklearn.svm import SVC\n",
    "svm_linear=SVC(kernel='linear')\n",
    "svm_linear.fit(X_train,y_train.values.ravel())\n",
    "y_pred=svm_linear.predict(X_test)"
   ]
  },
  {
   "cell_type": "code",
   "execution_count": 493,
   "metadata": {
    "colab": {
     "base_uri": "https://localhost:8080/"
    },
    "id": "XfB-C2qMzatj",
    "outputId": "4bdb9727-de1d-44e3-99b6-11f1017724ab"
   },
   "outputs": [
    {
     "name": "stdout",
     "output_type": "stream",
     "text": [
      "Accuracy is  0.7975717439293598\n",
      "              precision    recall  f1-score   support\n",
      "\n",
      "           0       0.80      0.97      0.87      3300\n",
      "           1       0.80      0.34      0.48      1230\n",
      "\n",
      "    accuracy                           0.80      4530\n",
      "   macro avg       0.80      0.65      0.68      4530\n",
      "weighted avg       0.80      0.80      0.77      4530\n",
      "\n"
     ]
    },
    {
     "data": {
      "text/plain": [
       "array([[3192,  108],\n",
       "       [ 809,  421]])"
      ]
     },
     "execution_count": 493,
     "metadata": {
      "tags": []
     },
     "output_type": "execute_result"
    }
   ],
   "source": [
    "print('Accuracy is ',accuracy_score(y_test,y_pred))\n",
    "print(classification_report(y_test, y_pred))\n",
    "cm=confusion_matrix(y_test,y_pred)\n",
    "cm"
   ]
  },
  {
   "cell_type": "code",
   "execution_count": 494,
   "metadata": {
    "colab": {
     "base_uri": "https://localhost:8080/",
     "height": 0
    },
    "id": "3OliQCLuzatk",
    "outputId": "1bea85ff-2793-432a-9a45-0edaa350b3c5"
   },
   "outputs": [
    {
     "data": {
      "image/png": "[encoded data removed]",
      "text/plain": [
       "<Figure size 432x288 with 2 Axes>"
      ]
     },
     "metadata": {
      "tags": []
     },
     "output_type": "display_data"
    },
    {
     "data": {
      "text/plain": [
       "<Figure size 1080x576 with 0 Axes>"
      ]
     },
     "metadata": {
      "tags": []
     },
     "output_type": "display_data"
    }
   ],
   "source": [
    "ax= plt.subplot()\n",
    "plt.figure(figsize=(15,8))\n",
    "sns.heatmap(confusion_matrix(y_test, y_pred), annot=True, ax = ax, cmap = \"YlGnBu\")\n",
    "\n",
    "# labels, title and ticks\n",
    "ax.set_xlabel(\"Predicted\")\n",
    "ax.set_ylabel(\"Actual\")\n",
    "ax.set_title(\"Confusion Matrix\") \n",
    "ax.xaxis.set_ticklabels([\"<=50\", \">50\"])\n",
    "plt.show()"
   ]
  },
  {
   "cell_type": "code",
   "execution_count": 495,
   "metadata": {
    "colab": {
     "base_uri": "https://localhost:8080/"
    },
    "id": "2X0f5yFtzatl",
    "outputId": "6196119b-9ac4-4b87-c243-ac66b3e341a3"
   },
   "outputs": [
    {
     "name": "stderr",
     "output_type": "stream",
     "text": [
      "/usr/local/lib/python3.7/dist-packages/sklearn/utils/validation.py:760: DataConversionWarning: A column-vector y was passed when a 1d array was expected. Please change the shape of y to (n_samples, ), for example using ravel().\n",
      "  y = column_or_1d(y, warn=True)\n"
     ]
    }
   ],
   "source": [
    "#polynomial svm\n",
    "svm_poly=SVC(kernel='poly',degree=3)\n",
    "svm_poly.fit(X_train,y_train)\n",
    "y_pred=svm_poly.predict(X_test)"
   ]
  },
  {
   "cell_type": "code",
   "execution_count": 496,
   "metadata": {
    "colab": {
     "base_uri": "https://localhost:8080/"
    },
    "id": "kMyjcA5hzatl",
    "outputId": "94b27bbd-e140-43e8-f256-361233bf7a24"
   },
   "outputs": [
    {
     "name": "stdout",
     "output_type": "stream",
     "text": [
      "Accuracy is  0.8207505518763797\n",
      "              precision    recall  f1-score   support\n",
      "\n",
      "           0       0.83      0.95      0.89      3300\n",
      "           1       0.77      0.48      0.59      1230\n",
      "\n",
      "    accuracy                           0.82      4530\n",
      "   macro avg       0.80      0.71      0.74      4530\n",
      "weighted avg       0.81      0.82      0.81      4530\n",
      "\n"
     ]
    },
    {
     "data": {
      "text/plain": [
       "array([[3125,  175],\n",
       "       [ 637,  593]])"
      ]
     },
     "execution_count": 496,
     "metadata": {
      "tags": []
     },
     "output_type": "execute_result"
    }
   ],
   "source": [
    "print('Accuracy is ',accuracy_score(y_test,y_pred))\n",
    "print(classification_report(y_test, y_pred))\n",
    "cm=confusion_matrix(y_test,y_pred)\n",
    "cm"
   ]
  },
  {
   "cell_type": "code",
   "execution_count": 497,
   "metadata": {
    "colab": {
     "base_uri": "https://localhost:8080/",
     "height": 0
    },
    "id": "QZEhFbiszatm",
    "outputId": "925c2503-6a9e-459d-f237-220d218a1b70"
   },
   "outputs": [
    {
     "data": {
      "image/png": "[encoded data removed]",
      "text/plain": [
       "<Figure size 432x288 with 2 Axes>"
      ]
     },
     "metadata": {
      "tags": []
     },
     "output_type": "display_data"
    },
    {
     "data": {
      "text/plain": [
       "<Figure size 1080x576 with 0 Axes>"
      ]
     },
     "metadata": {
      "tags": []
     },
     "output_type": "display_data"
    }
   ],
   "source": [
    "ax= plt.subplot()\n",
    "plt.figure(figsize=(15,8))\n",
    "sns.heatmap(confusion_matrix(y_test, y_pred), annot=True, ax = ax, cmap = \"YlGnBu\")\n",
    "\n",
    "# labels, title and ticks\n",
    "ax.set_xlabel(\"Predicted\")\n",
    "ax.set_ylabel(\"Actual\")\n",
    "ax.set_title(\"Confusion Matrix\") \n",
    "ax.xaxis.set_ticklabels([\"<=50\", \">50\"])\n",
    "plt.show()"
   ]
  },
  {
   "cell_type": "code",
   "execution_count": 498,
   "metadata": {
    "colab": {
     "base_uri": "https://localhost:8080/"
    },
    "id": "eFenFucNzatm",
    "outputId": "0510a23d-05dc-4f7d-81a0-e5ed730460b2"
   },
   "outputs": [
    {
     "name": "stderr",
     "output_type": "stream",
     "text": [
      "/usr/local/lib/python3.7/dist-packages/sklearn/utils/validation.py:760: DataConversionWarning: A column-vector y was passed when a 1d array was expected. Please change the shape of y to (n_samples, ), for example using ravel().\n",
      "  y = column_or_1d(y, warn=True)\n"
     ]
    }
   ],
   "source": [
    "#radial svm\n",
    "svm_radial=SVC(kernel='rbf')\n",
    "svm_radial.fit(X_train,y_train)\n",
    "y_pred=svm_radial.predict(X_test)"
   ]
  },
  {
   "cell_type": "code",
   "execution_count": 499,
   "metadata": {
    "colab": {
     "base_uri": "https://localhost:8080/"
    },
    "id": "VKYgSroZzatn",
    "outputId": "71fa079a-1255-408e-e416-f9cce19fb161"
   },
   "outputs": [
    {
     "name": "stdout",
     "output_type": "stream",
     "text": [
      "Accuracy is  0.8373068432671081\n",
      "              precision    recall  f1-score   support\n",
      "\n",
      "           0       0.85      0.94      0.89      3300\n",
      "           1       0.78      0.56      0.65      1230\n",
      "\n",
      "    accuracy                           0.84      4530\n",
      "   macro avg       0.81      0.75      0.77      4530\n",
      "weighted avg       0.83      0.84      0.83      4530\n",
      "\n"
     ]
    },
    {
     "data": {
      "text/plain": [
       "array([[3099,  201],\n",
       "       [ 536,  694]])"
      ]
     },
     "execution_count": 499,
     "metadata": {
      "tags": []
     },
     "output_type": "execute_result"
    }
   ],
   "source": [
    "print('Accuracy is ',accuracy_score(y_test,y_pred))\n",
    "print(classification_report(y_test, y_pred))\n",
    "cm=confusion_matrix(y_test,y_pred)\n",
    "cm"
   ]
  },
  {
   "cell_type": "code",
   "execution_count": 500,
   "metadata": {
    "colab": {
     "base_uri": "https://localhost:8080/",
     "height": 0
    },
    "id": "IqtAq3mRzatn",
    "outputId": "cca93936-d605-4d33-95c6-63eb69f3b0f6"
   },
   "outputs": [
    {
     "data": {
      "image/png": "[encoded data removed]",
      "text/plain": [
       "<Figure size 432x288 with 2 Axes>"
      ]
     },
     "metadata": {
      "tags": []
     },
     "output_type": "display_data"
    },
    {
     "data": {
      "text/plain": [
       "<Figure size 1080x576 with 0 Axes>"
      ]
     },
     "metadata": {
      "tags": []
     },
     "output_type": "display_data"
    }
   ],
   "source": [
    "ax= plt.subplot()\n",
    "plt.figure(figsize=(15,8))\n",
    "sns.heatmap(confusion_matrix(y_test, y_pred), annot=True, ax = ax, cmap = \"YlGnBu\")\n",
    "\n",
    "# labels, title and ticks\n",
    "ax.set_xlabel(\"Predicted\")\n",
    "ax.set_ylabel(\"Actual\")\n",
    "ax.set_title(\"Confusion Matrix\") \n",
    "ax.xaxis.set_ticklabels([\"<=50\", \">50\"])\n",
    "plt.show()"
   ]
  },
  {
   "cell_type": "markdown",
   "metadata": {
    "id": "MbHVyyvDzatn"
   },
   "source": [
    "# Random Forest"
   ]
  },
  {
   "cell_type": "code",
   "execution_count": 501,
   "metadata": {
    "id": "YHgy_H-Dzato"
   },
   "outputs": [],
   "source": [
    "from sklearn.ensemble import RandomForestClassifier\n",
    "clf=RandomForestClassifier(n_estimators=100)\n",
    "clf.fit(X_train,y_train.values.ravel())\n",
    "y_pred=clf.predict(X_test)"
   ]
  },
  {
   "cell_type": "code",
   "execution_count": 502,
   "metadata": {
    "colab": {
     "base_uri": "https://localhost:8080/"
    },
    "id": "ecRm6Zd0zato",
    "outputId": "edab801a-2644-4657-ed22-7d616a78eb86"
   },
   "outputs": [
    {
     "name": "stdout",
     "output_type": "stream",
     "text": [
      "Accuracy is  0.8300220750551877\n",
      "              precision    recall  f1-score   support\n",
      "\n",
      "           0       0.87      0.90      0.89      3300\n",
      "           1       0.71      0.64      0.67      1230\n",
      "\n",
      "    accuracy                           0.83      4530\n",
      "   macro avg       0.79      0.77      0.78      4530\n",
      "weighted avg       0.83      0.83      0.83      4530\n",
      "\n"
     ]
    },
    {
     "data": {
      "text/plain": [
       "array([[2978,  322],\n",
       "       [ 448,  782]])"
      ]
     },
     "execution_count": 502,
     "metadata": {
      "tags": []
     },
     "output_type": "execute_result"
    }
   ],
   "source": [
    "print('Accuracy is ',accuracy_score(y_test,y_pred))\n",
    "print(classification_report(y_test, y_pred))\n",
    "cm=confusion_matrix(y_test,y_pred)\n",
    "cm"
   ]
  },
  {
   "cell_type": "code",
   "execution_count": 503,
   "metadata": {
    "colab": {
     "base_uri": "https://localhost:8080/",
     "height": 0
    },
    "id": "en3EM77kzatp",
    "outputId": "fe21e254-c0d8-4577-d225-7fbbcfb27e50"
   },
   "outputs": [
    {
     "data": {
      "image/png": "[encoded data removed]",
      "text/plain": [
       "<Figure size 432x288 with 2 Axes>"
      ]
     },
     "metadata": {
      "tags": []
     },
     "output_type": "display_data"
    },
    {
     "data": {
      "text/plain": [
       "<Figure size 1080x576 with 0 Axes>"
      ]
     },
     "metadata": {
      "tags": []
     },
     "output_type": "display_data"
    }
   ],
   "source": [
    "ax= plt.subplot()\n",
    "plt.figure(figsize=(15,8))\n",
    "sns.heatmap(confusion_matrix(y_test, y_pred), annot=True, ax = ax, cmap = \"YlGnBu\")\n",
    "\n",
    "# labels, title and ticks\n",
    "ax.set_xlabel(\"Predicted\")\n",
    "ax.set_ylabel(\"Actual\")\n",
    "ax.set_title(\"Confusion Matrix\") \n",
    "ax.xaxis.set_ticklabels([\"<=50\", \">50\"])\n",
    "plt.show()"
   ]
  },
  {
   "cell_type": "markdown",
   "metadata": {
    "id": "3zifeixzzatp"
   },
   "source": [
    "# Gradient Boosting Classifier"
   ]
  },
  {
   "cell_type": "code",
   "execution_count": 504,
   "metadata": {
    "id": "k4rDv1QBzatp"
   },
   "outputs": [],
   "source": [
    "from sklearn.ensemble import GradientBoostingClassifier\n",
    "gb=GradientBoostingClassifier()\n",
    "gb.fit(X_train,y_train.values.ravel())\n",
    "y_pred=gb.predict(X_test)"
   ]
  },
  {
   "cell_type": "code",
   "execution_count": 505,
   "metadata": {
    "colab": {
     "base_uri": "https://localhost:8080/"
    },
    "id": "Jq94TFzkzatq",
    "outputId": "c1aeb1ac-eef4-43bf-fcc3-bbfbc5614e5e"
   },
   "outputs": [
    {
     "name": "stdout",
     "output_type": "stream",
     "text": [
      "Accuracy is  0.8509933774834437\n",
      "              precision    recall  f1-score   support\n",
      "\n",
      "           0       0.87      0.94      0.90      3300\n",
      "           1       0.78      0.62      0.69      1230\n",
      "\n",
      "    accuracy                           0.85      4530\n",
      "   macro avg       0.83      0.78      0.80      4530\n",
      "weighted avg       0.85      0.85      0.85      4530\n",
      "\n"
     ]
    },
    {
     "data": {
      "text/plain": [
       "array([[3090,  210],\n",
       "       [ 465,  765]])"
      ]
     },
     "execution_count": 505,
     "metadata": {
      "tags": []
     },
     "output_type": "execute_result"
    }
   ],
   "source": [
    "print('Accuracy is ',accuracy_score(y_test,y_pred))\n",
    "print(classification_report(y_test, y_pred))\n",
    "cm=confusion_matrix(y_test,y_pred)\n",
    "cm"
   ]
  },
  {
   "cell_type": "code",
   "execution_count": 505,
   "metadata": {
    "id": "GZz8eCRezatq"
   },
   "outputs": [],
   "source": []
  },
  {
   "cell_type": "code",
   "execution_count": 506,
   "metadata": {
    "colab": {
     "base_uri": "https://localhost:8080/",
     "height": 0
    },
    "id": "99Z44aTvzatq",
    "outputId": "d713054c-cde5-4a09-e683-36884738a626"
   },
   "outputs": [
    {
     "data": {
      "image/png": "[encoded data removed]",
      "text/plain": [
       "<Figure size 432x288 with 2 Axes>"
      ]
     },
     "metadata": {
      "tags": []
     },
     "output_type": "display_data"
    },
    {
     "data": {
      "text/plain": [
       "<Figure size 1080x576 with 0 Axes>"
      ]
     },
     "metadata": {
      "tags": []
     },
     "output_type": "display_data"
    }
   ],
   "source": [
    "ax= plt.subplot()\n",
    "plt.figure(figsize=(15,8))\n",
    "sns.heatmap(confusion_matrix(y_test, y_pred), annot=True, ax = ax, cmap = \"YlGnBu\")\n",
    "\n",
    "# labels, title and ticks\n",
    "ax.set_xlabel(\"Predicted\")\n",
    "ax.set_ylabel(\"Actual\")\n",
    "ax.set_title(\"Confusion Matrix\") \n",
    "ax.xaxis.set_ticklabels([\"<=50\", \">50\"])\n",
    "plt.show()"
   ]
  },
  {
   "cell_type": "markdown",
   "metadata": {
    "id": "u161zs3Kzatr"
   },
   "source": [
    "# Extreeme Gradient Boosting Classifier"
   ]
  },
  {
   "cell_type": "code",
   "execution_count": 507,
   "metadata": {
    "id": "qnQKRXjkzatr"
   },
   "outputs": [],
   "source": [
    "from xgboost import XGBClassifier\n",
    "xgb=XGBClassifier()\n",
    "xgb.fit(X_train,y_train.values.ravel())\n",
    "y_pred=xgb.predict(X_test)"
   ]
  },
  {
   "cell_type": "code",
   "execution_count": 508,
   "metadata": {
    "colab": {
     "base_uri": "https://localhost:8080/"
    },
    "id": "PBJa6rwCzats",
    "outputId": "b9b83e68-ad79-43eb-c03b-ebbd142a4c5c"
   },
   "outputs": [
    {
     "name": "stdout",
     "output_type": "stream",
     "text": [
      "Accuracy is  0.8470198675496688\n",
      "              precision    recall  f1-score   support\n",
      "\n",
      "           0       0.87      0.94      0.90      3300\n",
      "           1       0.78      0.61      0.68      1230\n",
      "\n",
      "    accuracy                           0.85      4530\n",
      "   macro avg       0.82      0.77      0.79      4530\n",
      "weighted avg       0.84      0.85      0.84      4530\n",
      "\n"
     ]
    },
    {
     "data": {
      "text/plain": [
       "array([[3089,  211],\n",
       "       [ 482,  748]])"
      ]
     },
     "execution_count": 508,
     "metadata": {
      "tags": []
     },
     "output_type": "execute_result"
    }
   ],
   "source": [
    "print('Accuracy is ',accuracy_score(y_test,y_pred))\n",
    "print(classification_report(y_test, y_pred))\n",
    "cm=confusion_matrix(y_test,y_pred)\n",
    "cm"
   ]
  },
  {
   "cell_type": "code",
   "execution_count": 509,
   "metadata": {
    "colab": {
     "base_uri": "https://localhost:8080/",
     "height": 0
    },
    "id": "IKrOy8glzats",
    "outputId": "cea9d9fd-099a-49fa-fb95-13a011c88706"
   },
   "outputs": [
    {
     "data": {
      "image/png": "[encoded data removed]",
      "text/plain": [
       "<Figure size 432x288 with 2 Axes>"
      ]
     },
     "metadata": {
      "tags": []
     },
     "output_type": "display_data"
    },
    {
     "data": {
      "text/plain": [
       "<Figure size 1080x576 with 0 Axes>"
      ]
     },
     "metadata": {
      "tags": []
     },
     "output_type": "display_data"
    }
   ],
   "source": [
    "ax= plt.subplot()\n",
    "plt.figure(figsize=(15,8))\n",
    "sns.heatmap(confusion_matrix(y_test, y_pred), annot=True, ax = ax, cmap = \"YlGnBu\")\n",
    "\n",
    "# labels, title and ticks\n",
    "ax.set_xlabel(\"Predicted\")\n",
    "ax.set_ylabel(\"Actual\")\n",
    "ax.set_title(\"Confusion Matrix\") \n",
    "ax.xaxis.set_ticklabels([\"<=50\", \">50\"])\n",
    "plt.show()"
   ]
  },
  {
   "cell_type": "markdown",
   "metadata": {
    "id": "-FQrakOLzats"
   },
   "source": [
    "# Naive Bayes Classifier"
   ]
  },
  {
   "cell_type": "code",
   "execution_count": 510,
   "metadata": {
    "id": "3VCuhxeKzatt"
   },
   "outputs": [],
   "source": [
    "from sklearn.naive_bayes import GaussianNB\n",
    "nb = GaussianNB()\n",
    "nb.fit(X_train, y_train.values.ravel())\n",
    "y_pred = nb.predict(X_test)"
   ]
  },
  {
   "cell_type": "code",
   "execution_count": 511,
   "metadata": {
    "colab": {
     "base_uri": "https://localhost:8080/"
    },
    "id": "4MW_XRFWzatt",
    "outputId": "3f54e531-2136-4ece-e1d4-097f3ea86737"
   },
   "outputs": [
    {
     "name": "stdout",
     "output_type": "stream",
     "text": [
      "Accuracy is  0.7920529801324503\n",
      "              precision    recall  f1-score   support\n",
      "\n",
      "           0       0.81      0.94      0.87      3300\n",
      "           1       0.70      0.40      0.51      1230\n",
      "\n",
      "    accuracy                           0.79      4530\n",
      "   macro avg       0.76      0.67      0.69      4530\n",
      "weighted avg       0.78      0.79      0.77      4530\n",
      "\n"
     ]
    },
    {
     "data": {
      "text/plain": [
       "array([[3091,  209],\n",
       "       [ 733,  497]])"
      ]
     },
     "execution_count": 511,
     "metadata": {
      "tags": []
     },
     "output_type": "execute_result"
    }
   ],
   "source": [
    "print('Accuracy is ',accuracy_score(y_test,y_pred))\n",
    "print(classification_report(y_test, y_pred))\n",
    "cm=confusion_matrix(y_test,y_pred)\n",
    "cm"
   ]
  },
  {
   "cell_type": "code",
   "execution_count": 512,
   "metadata": {
    "colab": {
     "base_uri": "https://localhost:8080/",
     "height": 0
    },
    "id": "sq9zN7G0zatt",
    "outputId": "d3539ceb-32ad-4e60-f5b0-dc36333c2e9f"
   },
   "outputs": [
    {
     "data": {
      "image/png": "[encoded data removed]",
      "text/plain": [
       "<Figure size 432x288 with 2 Axes>"
      ]
     },
     "metadata": {
      "tags": []
     },
     "output_type": "display_data"
    },
    {
     "data": {
      "text/plain": [
       "<Figure size 1080x576 with 0 Axes>"
      ]
     },
     "metadata": {
      "tags": []
     },
     "output_type": "display_data"
    }
   ],
   "source": [
    "ax= plt.subplot()\n",
    "plt.figure(figsize=(15,8))\n",
    "sns.heatmap(confusion_matrix(y_test, y_pred), annot=True, ax = ax, cmap = \"YlGnBu\")\n",
    "\n",
    "# labels, title and ticks\n",
    "ax.set_xlabel(\"Predicted\")\n",
    "ax.set_ylabel(\"Actual\")\n",
    "ax.set_title(\"Confusion Matrix\") \n",
    "ax.xaxis.set_ticklabels([\"<=50\", \">50\"])\n",
    "plt.show()"
   ]
  },
  {
   "cell_type": "code",
   "execution_count": 512,
   "metadata": {
    "id": "7hPy-lWLzatu"
   },
   "outputs": [],
   "source": []
  },
  {
   "cell_type": "markdown",
   "metadata": {
    "id": "u9_c__Z_gS8b"
   },
   "source": [
    "# **Gradient boosting is best algorithm**"
   ]
  },
  {
   "cell_type": "code",
   "execution_count": 513,
   "metadata": {
    "colab": {
     "base_uri": "https://localhost:8080/"
    },
    "id": "IELfjjveggDh",
    "outputId": "f42bc0c5-3088-495a-ce18-aa0ed0b477e9"
   },
   "outputs": [
    {
     "data": {
      "text/plain": [
       "GradientBoostingClassifier(ccp_alpha=0.0, criterion='friedman_mse', init=None,\n",
       "                           learning_rate=0.1, loss='deviance', max_depth=3,\n",
       "                           max_features=None, max_leaf_nodes=None,\n",
       "                           min_impurity_decrease=0.0, min_impurity_split=None,\n",
       "                           min_samples_leaf=1, min_samples_split=2,\n",
       "                           min_weight_fraction_leaf=0.0, n_estimators=100,\n",
       "                           n_iter_no_change=None, presort='deprecated',\n",
       "                           random_state=None, subsample=1.0, tol=0.0001,\n",
       "                           validation_fraction=0.1, verbose=0,\n",
       "                           warm_start=False)"
      ]
     },
     "execution_count": 513,
     "metadata": {
      "tags": []
     },
     "output_type": "execute_result"
    }
   ],
   "source": [
    "gb=GradientBoostingClassifier()\n",
    "gb.fit(X_train,y_train.values.ravel())"
   ]
  },
  {
   "cell_type": "code",
   "execution_count": 514,
   "metadata": {
    "colab": {
     "base_uri": "https://localhost:8080/"
    },
    "id": "wf85GoCngvZ_",
    "outputId": "62fdf21f-fa45-4b17-82d0-88ef9e0e1a6b"
   },
   "outputs": [
    {
     "name": "stdout",
     "output_type": "stream",
     "text": [
      "Accuracy is  0.8591611479028698\n",
      "              precision    recall  f1-score   support\n",
      "\n",
      "           0       0.88      0.93      0.91      3300\n",
      "           1       0.79      0.66      0.72      1230\n",
      "\n",
      "    accuracy                           0.86      4530\n",
      "   macro avg       0.83      0.80      0.81      4530\n",
      "weighted avg       0.86      0.86      0.86      4530\n",
      "\n"
     ]
    },
    {
     "data": {
      "text/plain": [
       "array([[3081,  219],\n",
       "       [ 419,  811]])"
      ]
     },
     "execution_count": 514,
     "metadata": {
      "tags": []
     },
     "output_type": "execute_result"
    }
   ],
   "source": [
    "gb=GradientBoostingClassifier(max_depth=5,n_estimators=130,random_state=10,max_features='auto',min_samples_split=2,learning_rate=0.1,\n",
    "                              min_samples_leaf=1,subsample=1.0)\n",
    "gb.fit(X_train,y_train.values.ravel())\n",
    "y_pred=gb.predict(X_test)\n",
    "print('Accuracy is ',accuracy_score(y_test,y_pred))\n",
    "print(classification_report(y_test, y_pred))\n",
    "cm=confusion_matrix(y_test,y_pred)\n",
    "cm"
   ]
  },
  {
   "cell_type": "code",
   "execution_count": 515,
   "metadata": {
    "id": "lLsGh9odqJwi"
   },
   "outputs": [],
   "source": [
    "parameters = {\n",
    "    \"loss\":[\"deviance\"],\n",
    "    \"learning_rate\": [0.01, 0.025, 0.05, 0.075, 0.1, 0.15, 0.2],\n",
    "    \"min_samples_split\": np.linspace(0.1, 0.5, 12),\n",
    "    \"min_samples_leaf\": np.linspace(0.1, 0.5, 12),\n",
    "    \"max_depth\":[5],\n",
    "    \"max_features\":[\"log2\",\"sqrt\"],\n",
    "    \"subsample\":[0.5, 0.618, 0.8, 0.85, 0.9, 0.95, 1.0],\n",
    "    \"n_estimators\":[130]\n",
    "    }"
   ]
  },
  {
   "cell_type": "code",
   "execution_count": 516,
   "metadata": {
    "id": "O5DwpR6ciCaW"
   },
   "outputs": [],
   "source": [
    "from sklearn.model_selection import GridSearchCV\n",
    "grid_search = GridSearchCV(gb, parameters,cv=5,n_jobs=-1)"
   ]
  },
  {
   "cell_type": "code",
   "execution_count": null,
   "metadata": {
    "id": "VIqtRfzimT5U"
   },
   "outputs": [],
   "source": [
    "grid_search.fit(X_train,y_train.values.ravel())\n",
    "#taking too much time,so quits here"
   ]
  },
  {
   "cell_type": "code",
   "execution_count": null,
   "metadata": {
    "id": "I8qLkCo3qOXv"
   },
   "outputs": [],
   "source": [
    "print(grid_search.score(trainX, trainY))\n",
    "print(grid_search.best_params_)\n"
   ]
  }
 ],
 "metadata": {
  "colab": {
   "collapsed_sections": [
    "Z5LtFpYHzaso",
    "oz3DIDPdzas2",
    "_P32ruAIzas4",
    "Flf1655VzatD",
    "uccYwDMBzatU",
    "O7WMm_aizatY",
    "b6hgabxHzatZ",
    "Vh-3g0rxzatb",
    "9AVdlOkFzate",
    "XAtE4YfDzath",
    "MbHVyyvDzatn",
    "3zifeixzzatp",
    "u161zs3Kzatr",
    "-FQrakOLzats"
   ],
   "name": "TCS iON internship.ipynb",
   "provenance": [],
   "toc_visible": true
  },
  "kernelspec": {
   "display_name": "Python 3",
   "language": "python",
   "name": "python3"
  },
  "language_info": {
   "codemirror_mode": {
    "name": "ipython",
    "version": 3
   },
   "file_extension": ".py",
   "mimetype": "text/x-python",
   "name": "python",
   "nbconvert_exporter": "python",
   "pygments_lexer": "ipython3",
   "version": "3.8.3"
  }
 },
 "nbformat": 4,
 "nbformat_minor": 1
}
